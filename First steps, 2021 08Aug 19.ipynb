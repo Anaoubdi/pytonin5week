{
 "cells": [
  {
   "cell_type": "markdown",
   "metadata": {},
   "source": [
    "# Agenda: Week 2 (Loops, lists, and tuples)\n",
    "\n",
    "1. Loops\n",
    "    - `for` loops\n",
    "    - looping a number of times\n",
    "    - `while` loops\n",
    "    - indexes -- do we need them?  Where are they?\n",
    "2. Lists\n",
    "    - What are they?\n",
    "    - How are they the same as (and different from) strings?\n",
    "    - Mutability vs. immutability\n",
    "3. Strings to lists and back\n",
    "    - Splitting\n",
    "    - Joining\n",
    "4. Tuples\n",
    "    - What are they?\n",
    "    - Why do we care? (Do we care?)\n",
    "    - How are they the same as (and different from) lists and strings?\n",
    "\n"
   ]
  },
  {
   "cell_type": "code",
   "execution_count": 1,
   "metadata": {},
   "outputs": [],
   "source": [
    "s = 'abcde'\n"
   ]
  },
  {
   "cell_type": "code",
   "execution_count": 2,
   "metadata": {},
   "outputs": [],
   "source": [
    "%config Completer.use_jedi = False"
   ]
  },
  {
   "cell_type": "markdown",
   "metadata": {},
   "source": [
    "# What are f-strings?\n",
    "\n",
    "1. They are strings!  They just make it easier to create strings.\n",
    "2. They look just like regular strings, except:\n",
    "    - there is an `f` before the opening quote\n",
    "    - in the string, anything in `{` and `}` is taken to be Python code, and its value is put in the string"
   ]
  },
  {
   "cell_type": "code",
   "execution_count": 3,
   "metadata": {},
   "outputs": [],
   "source": [
    "x = 10\n",
    "y = 20\n",
    "\n",
    "s = f'{x} + {y} = {x+y}'"
   ]
  },
  {
   "cell_type": "code",
   "execution_count": 4,
   "metadata": {},
   "outputs": [
    {
     "name": "stdout",
     "output_type": "stream",
     "text": [
      "10 + 20 = 30\n"
     ]
    }
   ],
   "source": [
    "print(s)"
   ]
  },
  {
   "cell_type": "code",
   "execution_count": 5,
   "metadata": {},
   "outputs": [
    {
     "data": {
      "text/plain": [
       "'20 = 30'"
      ]
     },
     "execution_count": 5,
     "metadata": {},
     "output_type": "execute_result"
    }
   ],
   "source": [
    "s[5:]  # slice on this string"
   ]
  },
  {
   "cell_type": "markdown",
   "metadata": {},
   "source": [
    "# Functions vs. methods\n",
    "\n",
    "These are both types of verbs that we can execute on our data.  The difference is mostly one of syntax:\n",
    "\n",
    "- Functions look like this: `FUNC(DATA)`\n",
    "- Methods look like this: `DATA.METHOD()`\n",
    "\n",
    "Most verbs in Python are actually methods.  For example:\n",
    "\n",
    "```python\n",
    "s = 'abcd efgh'\n",
    "s.capitalize()   # method; returns 'Abcd efgh'\n",
    "s.title()        # method; returns 'Abcd Efgh'\n",
    "\n",
    "len(s)           # function; that returns 9\n",
    "```"
   ]
  },
  {
   "cell_type": "code",
   "execution_count": 6,
   "metadata": {},
   "outputs": [
    {
     "data": {
      "text/plain": [
       "'a    b    c'"
      ]
     },
     "execution_count": 6,
     "metadata": {},
     "output_type": "execute_result"
    }
   ],
   "source": [
    "# one really useful method is `str.strip` \n",
    "\n",
    "s = '   a    b    c   '\n",
    "\n",
    "s.strip()  # returns a new string with no spaces at the start or end"
   ]
  },
  {
   "cell_type": "code",
   "execution_count": 7,
   "metadata": {},
   "outputs": [],
   "source": [
    "# How do I find out what methods are available?\n",
    "\n",
    "# (1) Look in the documentation at docs.python.org\n",
    "# (2) Use tab (or other completion) in Jupyter/PyCharm/VSCode/etc."
   ]
  },
  {
   "cell_type": "code",
   "execution_count": 8,
   "metadata": {},
   "outputs": [
    {
     "data": {
      "text/plain": [
       "False"
      ]
     },
     "execution_count": 8,
     "metadata": {},
     "output_type": "execute_result"
    }
   ],
   "source": [
    "s.isdigit()   # returns True if the string only contains 0-9"
   ]
  },
  {
   "cell_type": "markdown",
   "metadata": {},
   "source": [
    "# What are loops?\n",
    "\n",
    "Let's assume that I have a string, and I want to print each of the characters in the string."
   ]
  },
  {
   "cell_type": "code",
   "execution_count": 9,
   "metadata": {},
   "outputs": [
    {
     "name": "stdout",
     "output_type": "stream",
     "text": [
      "a\n",
      "b\n",
      "c\n",
      "d\n"
     ]
    }
   ],
   "source": [
    "s = 'abcd'\n",
    "\n",
    "print(s[0])    # unfortunately, this works!\n",
    "print(s[1])\n",
    "print(s[2])\n",
    "print(s[3])"
   ]
  },
  {
   "cell_type": "markdown",
   "metadata": {},
   "source": [
    "# DRY (Don't Repeat Yourself!)\n",
    "\n",
    "There are a bunch of reasons you don't want to repeat yourself in code:\n",
    "\n",
    "1. More to remember\n",
    "2. If you have to fix it in one place, you'll have to fix it in many places\n",
    "3. Harder to explain to newcomers who will read/maintain the code"
   ]
  },
  {
   "cell_type": "code",
   "execution_count": 10,
   "metadata": {},
   "outputs": [],
   "source": [
    "# How can DRY up this code?  Loop.  \n",
    "# Loops repeat code execution, again and again, allowing us to write things once.\n",
    "\n",
    "# There are two basic types of loops:\n",
    "# - for loops\n",
    "# - while loops"
   ]
  },
  {
   "cell_type": "code",
   "execution_count": 11,
   "metadata": {},
   "outputs": [
    {
     "name": "stdout",
     "output_type": "stream",
     "text": [
      "a\n",
      "b\n",
      "c\n",
      "d\n"
     ]
    }
   ],
   "source": [
    "s = 'abcd'\n",
    "\n",
    "for one_character in s:\n",
    "    print(one_character)   # loop body"
   ]
  },
  {
   "cell_type": "code",
   "execution_count": 12,
   "metadata": {},
   "outputs": [
    {
     "name": "stdout",
     "output_type": "stream",
     "text": [
      "a\n",
      "b\n",
      "c\n",
      "d\n"
     ]
    }
   ],
   "source": [
    "for one_terabyte in s:\n",
    "    print(one_terabyte)   # loop body"
   ]
  },
  {
   "cell_type": "markdown",
   "metadata": {},
   "source": [
    "# What's happening in our loop?\n",
    "\n",
    "1. The `for` loop asks the object (`s`, in our case) at the end of the line: Are you iterable? That is: Do you know how to behave inside of a `for` loop?\n",
    "2. If the answer is \"yes,\" then the `for` loop continues:\n",
    "    - What's your next thing, `s`?\n",
    "    - Either `s` gives the next thing to the `for` loop, assigning it to `one_character`, or we're at the end, and exit the loop.\n",
    "    - If we got something, then we go back and ask for more and more and more..."
   ]
  },
  {
   "cell_type": "code",
   "execution_count": 13,
   "metadata": {},
   "outputs": [],
   "source": [
    "# ASCII -- American Standard Code for Information Interchange\n",
    "# in other words -- what number represents which character?\n",
    "\n",
    "# 65 'A'\n",
    "# 32 ' '\n",
    "\n",
    "# the problem is that it was invented by Americans!"
   ]
  },
  {
   "cell_type": "code",
   "execution_count": 14,
   "metadata": {},
   "outputs": [],
   "source": [
    "# Unicode -- an attempt to give a unique number to every character\n",
    "# on the planet -- English, French, Russian, Arabic, Hebrew, Chinese, Korean, Japanese\n",
    "# also: emojis, music, etc.\n",
    "\n",
    "# the good news: it works!\n",
    "# the bad news: we need more than 8 bits (512 different characters)\n",
    "# how do we combine these?  It gets messy!\n",
    "\n",
    "# some characters will need 2, 3, or 4 bytes"
   ]
  },
  {
   "cell_type": "code",
   "execution_count": 16,
   "metadata": {},
   "outputs": [
    {
     "data": {
      "text/plain": [
       "4"
      ]
     },
     "execution_count": 16,
     "metadata": {},
     "output_type": "execute_result"
    }
   ],
   "source": [
    "s = 'abcd'\n",
    "len(s)  # 4 characters"
   ]
  },
  {
   "cell_type": "code",
   "execution_count": 17,
   "metadata": {},
   "outputs": [
    {
     "data": {
      "text/plain": [
       "4"
      ]
     },
     "execution_count": 17,
     "metadata": {},
     "output_type": "execute_result"
    }
   ],
   "source": [
    "s = 'שלום'\n",
    "len(s)  # still four characters!"
   ]
  },
  {
   "cell_type": "code",
   "execution_count": 18,
   "metadata": {},
   "outputs": [
    {
     "data": {
      "text/plain": [
       "2"
      ]
     },
     "execution_count": 18,
     "metadata": {},
     "output_type": "execute_result"
    }
   ],
   "source": [
    "s = '北京'\n",
    "len(s)  # two characters!"
   ]
  },
  {
   "cell_type": "code",
   "execution_count": 19,
   "metadata": {},
   "outputs": [
    {
     "name": "stdout",
     "output_type": "stream",
     "text": [
      "北\n",
      "京\n"
     ]
    }
   ],
   "source": [
    "for one_character in s:\n",
    "    print(one_character)"
   ]
  },
  {
   "cell_type": "code",
   "execution_count": 20,
   "metadata": {},
   "outputs": [
    {
     "name": "stdout",
     "output_type": "stream",
     "text": [
      "***H***\n",
      "e\n",
      "l\n",
      "l\n",
      "o\n"
     ]
    }
   ],
   "source": [
    "s = 'Hello'  # defined s to be a string\n",
    "\n",
    "for one_character in s:\n",
    "    if one_character == 'H':\n",
    "        print(f'***H***')\n",
    "    else:\n",
    "        print(one_character)"
   ]
  },
  {
   "cell_type": "code",
   "execution_count": 21,
   "metadata": {},
   "outputs": [],
   "source": [
    "x = 0   # assigns the value 0 (an integer) to the variable x"
   ]
  },
  {
   "cell_type": "code",
   "execution_count": null,
   "metadata": {},
   "outputs": [],
   "source": []
  },
  {
   "cell_type": "markdown",
   "metadata": {},
   "source": [
    "# Exercise: Vowel and consonant counter\n",
    "\n",
    "1. Set two variables, `vowel_count` and `consonant_count`, to 0.\n",
    "2. Ask the user to enter a string.\n",
    "3. Iterate over the string with a `for` loop.\n",
    "    - If the current character is a vowel, increment `vowel_count`.\n",
    "    - If the current character is a consonant, increment `consonant_count`.\n",
    "    - If it's neither, print a short warning and otherwise ignore it.\n",
    "4. Print both counts."
   ]
  },
  {
   "cell_type": "code",
   "execution_count": 24,
   "metadata": {},
   "outputs": [
    {
     "name": "stdout",
     "output_type": "stream",
     "text": [
      "Enter a string: hello out there\n",
      "Found consonant h\n",
      "Found vowel e\n",
      "Found consonant l\n",
      "Found consonant l\n",
      "Found vowel o\n",
      "Hey!  I got  , which is neither\n",
      "Found vowel o\n",
      "Found vowel u\n",
      "Found consonant t\n",
      "Hey!  I got  , which is neither\n",
      "Found consonant t\n",
      "Found consonant h\n",
      "Found vowel e\n",
      "Found consonant r\n",
      "Found vowel e\n"
     ]
    }
   ],
   "source": [
    "vowel_count = 0\n",
    "consonant_count = 0\n",
    "\n",
    "s = input('Enter a string: ').strip()  # strip the input, then assign to s\n",
    "\n",
    "for one_character in s:\n",
    "    if one_character in 'aeiou':\n",
    "        print(f'Found vowel {one_character}')\n",
    "    elif one_character in 'bcdfghjklmnpqrstvwxyz':\n",
    "        print(f'Found consonant {one_character}')\n",
    "    else:\n",
    "        print(f'Hey!  I got {one_character}, which is neither')"
   ]
  },
  {
   "cell_type": "code",
   "execution_count": 25,
   "metadata": {},
   "outputs": [
    {
     "name": "stdout",
     "output_type": "stream",
     "text": [
      "Enter a string: hello\n",
      "Vowels: 2\n",
      "Consonants: 3\n"
     ]
    }
   ],
   "source": [
    "vowel_count = 0\n",
    "consonant_count = 0\n",
    "\n",
    "# vowel_count = consonant_count = 0  # I personally detest this\n",
    "\n",
    "s = input('Enter a string: ').strip()  # strip the input, then assign to s\n",
    "\n",
    "for one_character in s.lower():  # iterate over the lowercase version of s\n",
    "    if one_character in 'aeiou':\n",
    "        vowel_count += 1\n",
    "    elif one_character.isalpha():  # alphabetical but not a vowel\n",
    "        consonant_count += 1\n",
    "    else:\n",
    "        print(f'Hey!  I got {one_character}, which is neither')\n",
    "        \n",
    "print(f'Vowels: {vowel_count}')        \n",
    "print(f'Consonants: {consonant_count}')"
   ]
  },
  {
   "cell_type": "code",
   "execution_count": null,
   "metadata": {},
   "outputs": [],
   "source": [
    "vowel_count = 0\n",
    "consonant_count = 0\n",
    "\n",
    "# vowel_count = consonant_count = 0  # I personally detest this\n",
    "\n",
    "s = input('Enter a string: ').strip().lower()\n",
    "\n",
    "for one_character in s:  # iterate over the lowercase version of s\n",
    "    if one_character in 'aeiou':\n",
    "        vowel_count += 1  # add 1 to vowel_count\n",
    "    elif one_character.isalpha():  # alphabetical but not a vowel\n",
    "        consonant_count += 1  # add 1 to consonant_count\n",
    "    else:\n",
    "        print(f'Hey!  I got {one_character}, which is neither')\n",
    "        \n",
    "print(f'Vowels: {vowel_count}')        \n",
    "print(f'Consonants: {consonant_count}')"
   ]
  },
  {
   "cell_type": "code",
   "execution_count": 26,
   "metadata": {},
   "outputs": [
    {
     "data": {
      "text/plain": [
       "'ABCD'"
      ]
     },
     "execution_count": 26,
     "metadata": {},
     "output_type": "execute_result"
    }
   ],
   "source": [
    "s = 'abcd'\n",
    "s.upper()"
   ]
  },
  {
   "cell_type": "code",
   "execution_count": 27,
   "metadata": {},
   "outputs": [
    {
     "ename": "TypeError",
     "evalue": "'str' object is not callable",
     "output_type": "error",
     "traceback": [
      "\u001b[0;31m---------------------------------------------------------------------------\u001b[0m",
      "\u001b[0;31mTypeError\u001b[0m                                 Traceback (most recent call last)",
      "\u001b[0;32m<ipython-input-27-def6465ecff1>\u001b[0m in \u001b[0;36m<module>\u001b[0;34m\u001b[0m\n\u001b[0;32m----> 1\u001b[0;31m \u001b[0ms\u001b[0m\u001b[0;34m(\u001b[0m\u001b[0;34m)\u001b[0m   \u001b[0;31m# this will not work!\u001b[0m\u001b[0;34m\u001b[0m\u001b[0;34m\u001b[0m\u001b[0m\n\u001b[0m",
      "\u001b[0;31mTypeError\u001b[0m: 'str' object is not callable"
     ]
    }
   ],
   "source": [
    "s()   # this will not work!"
   ]
  },
  {
   "cell_type": "markdown",
   "metadata": {},
   "source": [
    "# Next up\n",
    "\n",
    "1. Iterating a number of times\n",
    "2. `range`\n",
    "3. `while` loops\n"
   ]
  },
  {
   "cell_type": "code",
   "execution_count": 28,
   "metadata": {},
   "outputs": [
    {
     "name": "stdout",
     "output_type": "stream",
     "text": [
      "Reuven\n",
      "Reuven\n"
     ]
    }
   ],
   "source": [
    "first_name = 'Reuven'\n",
    "\n",
    "print(first_name)\n",
    "print(first_name)"
   ]
  },
  {
   "cell_type": "code",
   "execution_count": 29,
   "metadata": {},
   "outputs": [
    {
     "name": "stdout",
     "output_type": "stream",
     "text": [
      "Yay!\n",
      "Yay!\n",
      "Yay!\n"
     ]
    }
   ],
   "source": [
    "# What if I want to do something several times?\n",
    "\n",
    "# Example: I'm in a great mood.  I want to celebrate.\n",
    "\n",
    "print('Yay!')\n",
    "print('Yay!')\n",
    "print('Yay!')"
   ]
  },
  {
   "cell_type": "code",
   "execution_count": 30,
   "metadata": {},
   "outputs": [
    {
     "ename": "TypeError",
     "evalue": "'int' object is not iterable",
     "output_type": "error",
     "traceback": [
      "\u001b[0;31m---------------------------------------------------------------------------\u001b[0m",
      "\u001b[0;31mTypeError\u001b[0m                                 Traceback (most recent call last)",
      "\u001b[0;32m<ipython-input-30-ed86a2d2a52a>\u001b[0m in \u001b[0;36m<module>\u001b[0;34m\u001b[0m\n\u001b[1;32m      1\u001b[0m \u001b[0;31m# I know what I'll do!  I'll iterate over the number 3!\u001b[0m\u001b[0;34m\u001b[0m\u001b[0;34m\u001b[0m\u001b[0;34m\u001b[0m\u001b[0m\n\u001b[1;32m      2\u001b[0m \u001b[0;34m\u001b[0m\u001b[0m\n\u001b[0;32m----> 3\u001b[0;31m \u001b[0;32mfor\u001b[0m \u001b[0mone_number\u001b[0m \u001b[0;32min\u001b[0m \u001b[0;36m3\u001b[0m\u001b[0;34m:\u001b[0m\u001b[0;34m\u001b[0m\u001b[0;34m\u001b[0m\u001b[0m\n\u001b[0m\u001b[1;32m      4\u001b[0m     \u001b[0mprint\u001b[0m\u001b[0;34m(\u001b[0m\u001b[0;34m'Yay!'\u001b[0m\u001b[0;34m)\u001b[0m\u001b[0;34m\u001b[0m\u001b[0;34m\u001b[0m\u001b[0m\n",
      "\u001b[0;31mTypeError\u001b[0m: 'int' object is not iterable"
     ]
    }
   ],
   "source": [
    "# I know what I'll do!  I'll iterate over the number 3!\n",
    "\n",
    "for one_number in 3:\n",
    "    print('Yay!')"
   ]
  },
  {
   "cell_type": "code",
   "execution_count": 31,
   "metadata": {},
   "outputs": [
    {
     "name": "stdout",
     "output_type": "stream",
     "text": [
      "Yay!\n",
      "Yay!\n",
      "Yay!\n"
     ]
    }
   ],
   "source": [
    "# you cannot iterate over integers in Python .\n",
    "# but you *CAN* iterate over range(n)\n",
    "\n",
    "# range solves this problem, and does much more.\n",
    "\n",
    "for one_number in range(3):\n",
    "    print('Yay!')"
   ]
  },
  {
   "cell_type": "code",
   "execution_count": 32,
   "metadata": {},
   "outputs": [
    {
     "name": "stdout",
     "output_type": "stream",
     "text": [
      "0 Yay!\n",
      "1 Yay!\n",
      "2 Yay!\n"
     ]
    }
   ],
   "source": [
    "# What is contained in \"one_number\"?\n",
    "\n",
    "# range(3) returns, one at a time, the numbers 0, 1, 2\n",
    "# always going to be \"up to and NOT NOT NOT including\" the range number\n",
    "\n",
    "for one_number in range(3):\n",
    "    print(f'{one_number} Yay!')"
   ]
  },
  {
   "cell_type": "code",
   "execution_count": 34,
   "metadata": {},
   "outputs": [
    {
     "name": "stdout",
     "output_type": "stream",
     "text": [
      "a\n",
      "b\n",
      "c\n",
      "d\n"
     ]
    }
   ],
   "source": [
    "# I could say this:\n",
    "\n",
    "s = 'abcd'\n",
    "for i in range(len(s)):  # iterate over the numbers 0, 1, 2, 3\n",
    "    print(s[i])          # use that number to get one character from s"
   ]
  },
  {
   "cell_type": "code",
   "execution_count": 35,
   "metadata": {},
   "outputs": [
    {
     "data": {
      "text/plain": [
       "17"
      ]
     },
     "execution_count": 35,
     "metadata": {},
     "output_type": "execute_result"
    }
   ],
   "source": [
    "v = 5\n",
    "v += 1   # same as v = v + 1 -- after this line, v is 6\n",
    "v += 3   # same as v = v + 3  -- after this line, v is 9\n",
    "v += 8  # same as v = v + 8  -- after this line, v is 17\n",
    "v"
   ]
  },
  {
   "cell_type": "code",
   "execution_count": 36,
   "metadata": {},
   "outputs": [
    {
     "name": "stdout",
     "output_type": "stream",
     "text": [
      "0\n",
      "1\n",
      "2\n",
      "3\n",
      "4\n"
     ]
    }
   ],
   "source": [
    "for i in range(5):\n",
    "    print(i)"
   ]
  },
  {
   "cell_type": "code",
   "execution_count": 37,
   "metadata": {},
   "outputs": [
    {
     "name": "stdout",
     "output_type": "stream",
     "text": [
      "5\n",
      "6\n",
      "7\n",
      "8\n",
      "9\n"
     ]
    }
   ],
   "source": [
    "for i in range(5, 10):\n",
    "    print(i)"
   ]
  },
  {
   "cell_type": "code",
   "execution_count": 38,
   "metadata": {},
   "outputs": [
    {
     "name": "stdout",
     "output_type": "stream",
     "text": [
      "5\n",
      "8\n",
      "11\n",
      "14\n",
      "17\n"
     ]
    }
   ],
   "source": [
    "for i in range(5, 20, 3):  # from 5 until (not including) 20, step size 3\n",
    "    print(i)"
   ]
  },
  {
   "cell_type": "code",
   "execution_count": 39,
   "metadata": {},
   "outputs": [
    {
     "name": "stdout",
     "output_type": "stream",
     "text": [
      "abcd\n",
      "efgh\n"
     ]
    }
   ],
   "source": [
    "print('abcd\\nefgh')"
   ]
  },
  {
   "cell_type": "code",
   "execution_count": null,
   "metadata": {},
   "outputs": [],
   "source": []
  },
  {
   "cell_type": "markdown",
   "metadata": {},
   "source": [
    "# Exercise: Name triangles\n",
    "\n",
    "1. Ask the user to enter their name\n",
    "2. Print the user's name in a triangle:\n",
    "    - On the first line, print the first letter\n",
    "    - On the 2nd line, print the first 2 letters\n",
    "    - On the 3rd line, print the first 3 letters\n",
    "    - On the nth line, print the first n letters \n",
    "    \n",
    "Example:\n",
    "\n",
    "    Enter your name: Reuven\n",
    "    R\n",
    "    Re\n",
    "    Reu\n",
    "    Reuv\n",
    "    Reuve\n",
    "    Reuven\n",
    "    \n",
    "Remember:\n",
    "1. You can get a \"slice\" from a string with `s[start:stop+1]`\n",
    "2. You can always leave off the `start` or `stop+1` to go to the extreme edge\n"
   ]
  },
  {
   "cell_type": "code",
   "execution_count": 40,
   "metadata": {},
   "outputs": [
    {
     "name": "stdout",
     "output_type": "stream",
     "text": [
      "Enter your name: Reuven\n",
      "R\n",
      "Re\n",
      "Reu\n",
      "Reuv\n"
     ]
    }
   ],
   "source": [
    "name = input('Enter your name: ').strip()\n",
    "\n",
    "print(name[:1])  # up to and not including index 1\n",
    "print(name[:2])  # up to and not including index 2\n",
    "print(name[:3])  # up to and not including index 3\n",
    "print(name[:4])  # up to and not including index 4"
   ]
  },
  {
   "cell_type": "code",
   "execution_count": 43,
   "metadata": {},
   "outputs": [
    {
     "name": "stdout",
     "output_type": "stream",
     "text": [
      "Enter your name: Reuven\n",
      "R\n",
      "Re\n",
      "Reu\n",
      "Reuv\n",
      "Reuve\n",
      "Reuven\n"
     ]
    }
   ],
   "source": [
    "name = input('Enter your name: ').strip()\n",
    "\n",
    "for maxindex in range(len(name)):  # range will be 0 up to (not including) length of name\n",
    "    print(name[:maxindex+1])  # print name, but only up to maxindex+1"
   ]
  },
  {
   "cell_type": "markdown",
   "metadata": {},
   "source": [
    "# Stopping loops early\n",
    "\n",
    "A `for` loop iterates over every element of a string (or another collection).  It starts at the beginning, and unless we stop it (and we'll see how to do that in a bit), it continues through the end.\n",
    "\n",
    "We can exit from a loop whenever we want with `break`.  Once Python sees `break`, it immediately exits from the loop.\n"
   ]
  },
  {
   "cell_type": "code",
   "execution_count": 45,
   "metadata": {},
   "outputs": [
    {
     "name": "stdout",
     "output_type": "stream",
     "text": [
      "Found a, not what we are looking for\n",
      "Found b, not what we are looking for\n",
      "Found c, not what we are looking for\n",
      "Found d!\n",
      "Found e, not what we are looking for\n"
     ]
    }
   ],
   "source": [
    "s = 'abcde'\n",
    "look_for = 'd'  # pretend that \"in\" doesn't exist\n",
    "\n",
    "for one_character in s:\n",
    "    if look_for == one_character:\n",
    "        print(f\"Found {look_for}!\")\n",
    "    else:\n",
    "        print(f'Found {one_character}, not what we are looking for')"
   ]
  },
  {
   "cell_type": "code",
   "execution_count": 47,
   "metadata": {},
   "outputs": [
    {
     "name": "stdout",
     "output_type": "stream",
     "text": [
      "Found a, not what we are looking for\n",
      "Found b, not what we are looking for\n",
      "Found c, not what we are looking for\n",
      "Found d!\n",
      "Done!\n"
     ]
    }
   ],
   "source": [
    "s = 'abcde'\n",
    "look_for = 'd'  # pretend that \"in\" doesn't exist\n",
    "\n",
    "for one_character in s:\n",
    "    if look_for == one_character:\n",
    "        print(f\"Found {look_for}!\")\n",
    "        break   # exits the loop right away\n",
    "    else:\n",
    "        print(f'Found {one_character}, not what we are looking for')\n",
    "        \n",
    "print(\"Done!\")        "
   ]
  },
  {
   "cell_type": "markdown",
   "metadata": {},
   "source": [
    "# Example: \n",
    "\n",
    "I want to ask the user to enter up to 5 numbers. If the total of the entered numbers reaches 100 before we get 5, we exit the loop early."
   ]
  },
  {
   "cell_type": "code",
   "execution_count": 48,
   "metadata": {},
   "outputs": [
    {
     "name": "stdout",
     "output_type": "stream",
     "text": [
      "Enter a number: 10\n",
      "Added 10, total is now 10\n",
      "Enter a number: 50\n",
      "Added 50, total is now 60\n",
      "Enter a number: 1\n",
      "Added 1, total is now 61\n",
      "Enter a number: 80\n",
      "Added 80, total is now 141\n",
      "Finally, total is 141\n"
     ]
    }
   ],
   "source": [
    "total = 0\n",
    "\n",
    "for i in range(5):\n",
    "    s = input(f'Enter a number: ').strip()\n",
    "    \n",
    "    n = int(s)  # get an int based on s\n",
    "    total += n\n",
    "    print(f'Added {n}, total is now {total}')\n",
    "    if total >= 100:\n",
    "        break\n",
    "        \n",
    "print(f'Finally, total is {total}')        "
   ]
  },
  {
   "cell_type": "code",
   "execution_count": 49,
   "metadata": {},
   "outputs": [
    {
     "data": {
      "text/plain": [
       "'b'"
      ]
     },
     "execution_count": 49,
     "metadata": {},
     "output_type": "execute_result"
    }
   ],
   "source": [
    "s = 'abcde'\n",
    "\n",
    "s[1]  # this retrieves one character, the item at index 1"
   ]
  },
  {
   "cell_type": "code",
   "execution_count": 50,
   "metadata": {},
   "outputs": [
    {
     "data": {
      "text/plain": [
       "'a'"
      ]
     },
     "execution_count": 50,
     "metadata": {},
     "output_type": "execute_result"
    }
   ],
   "source": [
    "s[:1]  # this retrieves the slice of one character, the items at indexes up to 1"
   ]
  },
  {
   "cell_type": "code",
   "execution_count": 51,
   "metadata": {},
   "outputs": [
    {
     "data": {
      "text/plain": [
       "'ab'"
      ]
     },
     "execution_count": 51,
     "metadata": {},
     "output_type": "execute_result"
    }
   ],
   "source": [
    "s[:2]"
   ]
  },
  {
   "cell_type": "markdown",
   "metadata": {},
   "source": [
    "# `while` loops\n",
    "\n",
    "A `for` loop goes through a string, from start to finish, unless it is stoped prematurely by `break`.  \n",
    "\n",
    "A `while` loop, by contrast, is like `if`. It has a condition, and it runs so long as the condition is `True`. At the start of each iteration, the loop checks if the condition is `True` -- and if it is, then the body runs.  If not, the loop ends."
   ]
  },
  {
   "cell_type": "code",
   "execution_count": 52,
   "metadata": {},
   "outputs": [
    {
     "name": "stdout",
     "output_type": "stream",
     "text": [
      "5\n",
      "4\n",
      "3\n",
      "2\n",
      "1\n"
     ]
    }
   ],
   "source": [
    "x = 5\n",
    "\n",
    "while x > 0:   # condition -- just like an if!\n",
    "    print(x)\n",
    "    x -= 1   # subtract 1 from x"
   ]
  },
  {
   "cell_type": "markdown",
   "metadata": {},
   "source": [
    "# Exercise: Sum numbers \n",
    "\n",
    "1. Set `total` to 0.\n",
    "2. Repeatedly (i.e., in a `while` loop):\n",
    "    - Ask the user to enter a number.\n",
    "    - (Remember, all input comes as as string!)\n",
    "    - If the user gave us an empty/blank string, written as `''`, then stop asking the user for input and exit from the loop.\n",
    "    - Otherwise, turn the user's input into a number and add to `total`.\n",
    "3. When we exit from the loop, print the total\n",
    "\n",
    "Example:\n",
    "\n",
    "    Enter a number: 10\n",
    "    Enter a number: 20\n",
    "    Enter a number: 30\n",
    "    Enter a number: [ENTER]\n",
    "    Total is 60"
   ]
  },
  {
   "cell_type": "code",
   "execution_count": 53,
   "metadata": {},
   "outputs": [
    {
     "name": "stdout",
     "output_type": "stream",
     "text": [
      "Enter a number: 10\n",
      "Enter a number: 15\n",
      "Enter a number: 83\n",
      "Enter a number: \n",
      "Total = 108\n"
     ]
    }
   ],
   "source": [
    "total = 0\n",
    "\n",
    "while True:   # infinite loop\n",
    "    s = input('Enter a number: ').strip()\n",
    "    \n",
    "    if s == '':  # empty input? get out of here!\n",
    "        break\n",
    "        \n",
    "    total += int(s)  # get an int from s, and add to the total\n",
    "    \n",
    "print(f'Total = {total}')       "
   ]
  },
  {
   "cell_type": "code",
   "execution_count": 55,
   "metadata": {},
   "outputs": [
    {
     "name": "stdout",
     "output_type": "stream",
     "text": [
      "Enter a number: 30\n",
      "\tTotal is 0\n",
      "\tAdding 30 to total\n",
      "Enter a number: 15\n",
      "\tTotal is 30\n",
      "\tAdding 15 to total\n",
      "Enter a number: 20\n",
      "\tTotal is 45\n",
      "\tAdding 20 to total\n",
      "Enter a number: 100\n",
      "\tTotal is 65\n",
      "\tAdding 100 to total\n",
      "Total = 165\n"
     ]
    }
   ],
   "source": [
    "# what if the specifications had said: Keep asking the user for inputs\n",
    "# until we go over 100.  At that point, exit from the loop.\n",
    "\n",
    "total = 0\n",
    "\n",
    "while total < 100:\n",
    "    s = input('Enter a number: ').strip()\n",
    "    print(f'\\tTotal is {total}')  # \\t == tab, special character\n",
    "    \n",
    "    if s.isdigit():    \n",
    "        print(f'\\tAdding {s} to total')  # \\t == tab, up to 8 spaces\n",
    "        total += int(s)\n",
    "    else:\n",
    "        print(f'{s} is not numeric; ignoring')\n",
    "        \n",
    "print(f'Total = {total}')        "
   ]
  },
  {
   "cell_type": "code",
   "execution_count": 56,
   "metadata": {},
   "outputs": [
    {
     "ename": "SyntaxError",
     "evalue": "'break' outside loop (<ipython-input-56-6aaf1f276005>, line 1)",
     "output_type": "error",
     "traceback": [
      "\u001b[0;36m  File \u001b[0;32m\"<ipython-input-56-6aaf1f276005>\"\u001b[0;36m, line \u001b[0;32m1\u001b[0m\n\u001b[0;31m    break\u001b[0m\n\u001b[0m    ^\u001b[0m\n\u001b[0;31mSyntaxError\u001b[0m\u001b[0;31m:\u001b[0m 'break' outside loop\n"
     ]
    }
   ],
   "source": [
    "break"
   ]
  },
  {
   "cell_type": "markdown",
   "metadata": {},
   "source": [
    " # `for` vs. `while`\n",
    " \n",
    "-  Use a `for` loop when you want to go through every element of a collection -- every character in a string, every element of a list, every line of a file, every user in your database, etc.\n",
    "- Use a `while` loop when you don't know how many times you'll need to iterate, or exactly when you'll stop. But you know the condition that will mark the end."
   ]
  },
  {
   "cell_type": "code",
   "execution_count": 57,
   "metadata": {},
   "outputs": [
    {
     "name": "stdout",
     "output_type": "stream",
     "text": [
      "Begin\n",
      "0\n",
      "1\n",
      "2\n",
      "3\n",
      "4\n",
      "End\n"
     ]
    }
   ],
   "source": [
    "print('Begin')\n",
    "for i in range(5):\n",
    "    print(i)\n",
    "print('End')"
   ]
  },
  {
   "cell_type": "code",
   "execution_count": null,
   "metadata": {},
   "outputs": [],
   "source": []
  },
  {
   "cell_type": "markdown",
   "metadata": {},
   "source": [
    "# Next up\n",
    " \n",
    "1. Lists!\n",
    "     - Creating them\n",
    "     - Retrieving from lists\n",
    "     - Iterating over lists\n",
    "2. Lists vs. strings"
   ]
  },
  {
   "cell_type": "markdown",
   "metadata": {},
   "source": [
    "# What are lists?\n",
    "\n",
    "Lists are Python's most flexible container/collection for other objects.  They are *not* arrays! But they operate very similarly to arrays, in that they can contain any other object, and we can retrieve from them, too.\n",
    "\n",
    "Formally, we say that a list is an ordered collection -- when you store something in a list, Python remembers where it was stored."
   ]
  },
  {
   "cell_type": "code",
   "execution_count": 58,
   "metadata": {},
   "outputs": [],
   "source": [
    "# create a new list \n",
    "\n",
    "mylist = [10, 20, 30]  # [] around the list and commas between elements"
   ]
  },
  {
   "cell_type": "code",
   "execution_count": 59,
   "metadata": {},
   "outputs": [],
   "source": [
    "# mylist is a list! There is no such thing as a \"list of ints\" or \"list of strings\"\n",
    "# in Python.  Any list can contain any type, or any combination of types.\n",
    "\n",
    "# BUT it's traditional to only put one type in a list."
   ]
  },
  {
   "cell_type": "code",
   "execution_count": 60,
   "metadata": {},
   "outputs": [
    {
     "data": {
      "text/plain": [
       "list"
      ]
     },
     "execution_count": 60,
     "metadata": {},
     "output_type": "execute_result"
    }
   ],
   "source": [
    "type(mylist)  # find out what type of data we have"
   ]
  },
  {
   "cell_type": "code",
   "execution_count": 62,
   "metadata": {},
   "outputs": [
    {
     "data": {
      "text/plain": [
       "9"
      ]
     },
     "execution_count": 62,
     "metadata": {},
     "output_type": "execute_result"
    }
   ],
   "source": [
    "mylist = [10, 20, 30, 40, 50, 60, 70, 80, 90]\n",
    "\n",
    "len(mylist)    # we can use \"len\", just like with a string"
   ]
  },
  {
   "cell_type": "code",
   "execution_count": 63,
   "metadata": {},
   "outputs": [
    {
     "data": {
      "text/plain": [
       "10"
      ]
     },
     "execution_count": 63,
     "metadata": {},
     "output_type": "execute_result"
    }
   ],
   "source": [
    "mylist[0]  # retrieve the first element, at index 0, like a string"
   ]
  },
  {
   "cell_type": "code",
   "execution_count": 64,
   "metadata": {},
   "outputs": [
    {
     "data": {
      "text/plain": [
       "60"
      ]
     },
     "execution_count": 64,
     "metadata": {},
     "output_type": "execute_result"
    }
   ],
   "source": [
    "mylist[5]  # retrieve the 6th element, at index 5, like a string"
   ]
  },
  {
   "cell_type": "code",
   "execution_count": 65,
   "metadata": {},
   "outputs": [
    {
     "data": {
      "text/plain": [
       "90"
      ]
     },
     "execution_count": 65,
     "metadata": {},
     "output_type": "execute_result"
    }
   ],
   "source": [
    "mylist[-1]  # retrieves the final element"
   ]
  },
  {
   "cell_type": "code",
   "execution_count": 66,
   "metadata": {},
   "outputs": [
    {
     "data": {
      "text/plain": [
       "[30, 40, 50, 60]"
      ]
     },
     "execution_count": 66,
     "metadata": {},
     "output_type": "execute_result"
    }
   ],
   "source": [
    "# can we use slices?  YES\n",
    "mylist[2:6]"
   ]
  },
  {
   "cell_type": "code",
   "execution_count": 67,
   "metadata": {},
   "outputs": [
    {
     "name": "stdout",
     "output_type": "stream",
     "text": [
      "10\n",
      "20\n",
      "30\n",
      "40\n",
      "50\n",
      "60\n",
      "70\n",
      "80\n",
      "90\n"
     ]
    }
   ],
   "source": [
    "# I can iterate over a list\n",
    "\n",
    "for one_item in mylist:\n",
    "    print(one_item)"
   ]
  },
  {
   "cell_type": "code",
   "execution_count": 68,
   "metadata": {},
   "outputs": [
    {
     "name": "stdout",
     "output_type": "stream",
     "text": [
      "total is 450\n"
     ]
    }
   ],
   "source": [
    "total = 0\n",
    "for one_item in mylist:\n",
    "    total += one_item\n",
    "print(f'total is {total}')    "
   ]
  },
  {
   "cell_type": "code",
   "execution_count": 69,
   "metadata": {},
   "outputs": [
    {
     "data": {
      "text/plain": [
       "6"
      ]
     },
     "execution_count": 69,
     "metadata": {},
     "output_type": "execute_result"
    }
   ],
   "source": [
    "mylist = ['this', 'is', 'a', 'bunch', 'of', 'words']\n",
    "len(mylist)"
   ]
  },
  {
   "cell_type": "code",
   "execution_count": 70,
   "metadata": {},
   "outputs": [
    {
     "data": {
      "text/plain": [
       "'bunch'"
      ]
     },
     "execution_count": 70,
     "metadata": {},
     "output_type": "execute_result"
    }
   ],
   "source": [
    "mylist[3]"
   ]
  },
  {
   "cell_type": "code",
   "execution_count": 71,
   "metadata": {},
   "outputs": [
    {
     "data": {
      "text/plain": [
       "list"
      ]
     },
     "execution_count": 71,
     "metadata": {},
     "output_type": "execute_result"
    }
   ],
   "source": [
    "type(mylist)"
   ]
  },
  {
   "cell_type": "code",
   "execution_count": 72,
   "metadata": {},
   "outputs": [
    {
     "data": {
      "text/plain": [
       "3"
      ]
     },
     "execution_count": 72,
     "metadata": {},
     "output_type": "execute_result"
    }
   ],
   "source": [
    "mylist = [10, 20, 30]  # contains 3 Python objects, thus len is 3\n",
    "biglist = [mylist, mylist, mylist]  # contains 3 Python objects, thus len is 3\n",
    "\n",
    "len(mylist)"
   ]
  },
  {
   "cell_type": "code",
   "execution_count": 73,
   "metadata": {},
   "outputs": [
    {
     "data": {
      "text/plain": [
       "3"
      ]
     },
     "execution_count": 73,
     "metadata": {},
     "output_type": "execute_result"
    }
   ],
   "source": [
    "len(biglist)"
   ]
  },
  {
   "cell_type": "code",
   "execution_count": 74,
   "metadata": {},
   "outputs": [
    {
     "data": {
      "text/plain": [
       "True"
      ]
     },
     "execution_count": 74,
     "metadata": {},
     "output_type": "execute_result"
    }
   ],
   "source": [
    "20 in mylist  # is 20 in mylist?"
   ]
  },
  {
   "cell_type": "code",
   "execution_count": 75,
   "metadata": {},
   "outputs": [
    {
     "data": {
      "text/plain": [
       "False"
      ]
     },
     "execution_count": 75,
     "metadata": {},
     "output_type": "execute_result"
    }
   ],
   "source": [
    "20 in biglist  # is 20 an element in biglist?"
   ]
  },
  {
   "cell_type": "code",
   "execution_count": 76,
   "metadata": {},
   "outputs": [
    {
     "data": {
      "text/plain": [
       "True"
      ]
     },
     "execution_count": 76,
     "metadata": {},
     "output_type": "execute_result"
    }
   ],
   "source": [
    "[10, 20, 30] in biglist     # is [10, 20, 30] an element in biglist?"
   ]
  },
  {
   "cell_type": "code",
   "execution_count": 77,
   "metadata": {},
   "outputs": [
    {
     "data": {
      "text/plain": [
       "3"
      ]
     },
     "execution_count": 77,
     "metadata": {},
     "output_type": "execute_result"
    }
   ],
   "source": [
    "len(biglist[0])"
   ]
  },
  {
   "cell_type": "code",
   "execution_count": 78,
   "metadata": {},
   "outputs": [
    {
     "data": {
      "text/plain": [
       "'a'"
      ]
     },
     "execution_count": 78,
     "metadata": {},
     "output_type": "execute_result"
    }
   ],
   "source": [
    "s = 'abcd'\n",
    "s[0] "
   ]
  },
  {
   "cell_type": "code",
   "execution_count": 79,
   "metadata": {},
   "outputs": [
    {
     "ename": "TypeError",
     "evalue": "'str' object does not support item assignment",
     "output_type": "error",
     "traceback": [
      "\u001b[0;31m---------------------------------------------------------------------------\u001b[0m",
      "\u001b[0;31mTypeError\u001b[0m                                 Traceback (most recent call last)",
      "\u001b[0;32m<ipython-input-79-82213bff0003>\u001b[0m in \u001b[0;36m<module>\u001b[0;34m\u001b[0m\n\u001b[1;32m      1\u001b[0m \u001b[0;31m# can I change s[0]?  No, because strings are immutable\u001b[0m\u001b[0;34m\u001b[0m\u001b[0;34m\u001b[0m\u001b[0;34m\u001b[0m\u001b[0m\n\u001b[0;32m----> 2\u001b[0;31m \u001b[0ms\u001b[0m\u001b[0;34m[\u001b[0m\u001b[0;36m0\u001b[0m\u001b[0;34m]\u001b[0m \u001b[0;34m=\u001b[0m \u001b[0;34m'!'\u001b[0m\u001b[0;34m\u001b[0m\u001b[0;34m\u001b[0m\u001b[0m\n\u001b[0m",
      "\u001b[0;31mTypeError\u001b[0m: 'str' object does not support item assignment"
     ]
    }
   ],
   "source": [
    "# can I change s[0]?  No, because strings are immutable\n",
    "s[0] = '!'"
   ]
  },
  {
   "cell_type": "code",
   "execution_count": 80,
   "metadata": {},
   "outputs": [
    {
     "data": {
      "text/plain": [
       "[10, 20, 30]"
      ]
     },
     "execution_count": 80,
     "metadata": {},
     "output_type": "execute_result"
    }
   ],
   "source": [
    "mylist"
   ]
  },
  {
   "cell_type": "code",
   "execution_count": 81,
   "metadata": {},
   "outputs": [],
   "source": [
    "# can I change mylist[0]?\n",
    "\n",
    "mylist[0] = '!'"
   ]
  },
  {
   "cell_type": "code",
   "execution_count": 83,
   "metadata": {},
   "outputs": [
    {
     "data": {
      "text/plain": [
       "['!', 20, 30]"
      ]
     },
     "execution_count": 83,
     "metadata": {},
     "output_type": "execute_result"
    }
   ],
   "source": [
    "mylist  # lists are MUTABLE, they can be changed!"
   ]
  },
  {
   "cell_type": "code",
   "execution_count": 84,
   "metadata": {},
   "outputs": [
    {
     "data": {
      "text/plain": [
       "[['!', 20, 30], ['!', 20, 30], ['!', 20, 30]]"
      ]
     },
     "execution_count": 84,
     "metadata": {},
     "output_type": "execute_result"
    }
   ],
   "source": [
    "biglist"
   ]
  },
  {
   "cell_type": "code",
   "execution_count": 85,
   "metadata": {},
   "outputs": [
    {
     "name": "stdout",
     "output_type": "stream",
     "text": [
      "x = 10\n",
      "y = 10\n",
      "x = 20\n",
      "y = 10\n"
     ]
    }
   ],
   "source": [
    "x = 10\n",
    "y = x  # this does NOT mean y follows x around\n",
    "\n",
    "print(f'x = {x}')\n",
    "print(f'y = {y}')\n",
    "\n",
    "x = 20\n",
    "\n",
    "print(f'x = {x}')\n",
    "print(f'y = {y}')\n"
   ]
  },
  {
   "cell_type": "code",
   "execution_count": 86,
   "metadata": {},
   "outputs": [
    {
     "name": "stdout",
     "output_type": "stream",
     "text": [
      "mylist = [10, 20, 30]\n",
      "x = [10, 20, 30]\n",
      "mylist = [80, 90, 100]\n",
      "x = [10, 20, 30]\n"
     ]
    }
   ],
   "source": [
    "mylist = [10, 20, 30]\n",
    "x = mylist    # x is assigned the CURRENT value of mylist. It doesn't follow mylist around\n",
    "\n",
    "print(f'mylist = {mylist}')\n",
    "print(f'x = {x}')\n",
    "\n",
    "# both of these variables \n",
    "# refer to the same list\n",
    "\n",
    "# now reassign mylist to something else\n",
    "\n",
    "mylist = [80, 90, 100]\n",
    "\n",
    "print(f'mylist = {mylist}')\n",
    "print(f'x = {x}')\n",
    "\n"
   ]
  },
  {
   "cell_type": "code",
   "execution_count": 87,
   "metadata": {},
   "outputs": [
    {
     "name": "stdout",
     "output_type": "stream",
     "text": [
      "mylist = [10, 20, 30]\n",
      "x = [10, 20, 30]\n",
      "mylist = ['!!!!', 20, 30]\n",
      "x = ['!!!!', 20, 30]\n"
     ]
    }
   ],
   "source": [
    "mylist = [10, 20, 30]\n",
    "x = mylist\n",
    "\n",
    "print(f'mylist = {mylist}')\n",
    "print(f'x = {x}')\n",
    "\n",
    "# both of these variables \n",
    "# refer to the same list\n",
    "\n",
    "# here, we don't say that mylist will now refer to a new value\n",
    "# rather, we're changing the list to which mylist (and x) both refer\n",
    "\n",
    "mylist[0] = '!!!!'\n",
    "\n",
    "print(f'mylist = {mylist}')\n",
    "print(f'x = {x}')\n",
    "\n",
    "\n"
   ]
  },
  {
   "cell_type": "code",
   "execution_count": null,
   "metadata": {},
   "outputs": [],
   "source": [
    "# biglist with copies of mylist, via slicing\n",
    "\n",
    "mylist = [10, 20, 30]\n",
    "biglist = [mylist[:], mylist[:], mylist[:]]\n",
    "\n",
    "print(mylist)\n",
    "print(biglist)\n",
    "\n",
    "mylist[0] = '!'\n",
    "biglist[1][2] = '?'\n",
    "print(mylist)\n",
    "print(biglist)\n"
   ]
  },
  {
   "cell_type": "markdown",
   "metadata": {},
   "source": [
    "# Assignment\n",
    "\n",
    "Whenever I assign in Python, I'm saying that this variable now has this value. The variable has broken any connection it had with any previous value."
   ]
  },
  {
   "cell_type": "code",
   "execution_count": 88,
   "metadata": {},
   "outputs": [],
   "source": [
    "mylist = [10, 20, 30]\n",
    "\n",
    "# we know that we can change mylist by assigning to an element.\n",
    "# can we make the list longer?\n",
    "# can we make the list shorter?\n",
    "\n",
    "# Answer: YES!  "
   ]
  },
  {
   "cell_type": "code",
   "execution_count": 89,
   "metadata": {},
   "outputs": [
    {
     "data": {
      "text/plain": [
       "[10, 20, 30, 40]"
      ]
     },
     "execution_count": 89,
     "metadata": {},
     "output_type": "execute_result"
    }
   ],
   "source": [
    "mylist.append(40)  # adds 40 to the end of the list, lengthening it\n",
    "\n",
    "mylist"
   ]
  },
  {
   "cell_type": "markdown",
   "metadata": {},
   "source": [
    "# WARNING\n",
    "\n",
    "Do *NOT* put `mylist.append(40)` on the right side of an assignment.  The method call changes `mylist`.  If you say\n",
    "\n",
    "```python\n",
    "mylist = mylist.append(40)\n",
    "```\n",
    "\n",
    "you will be in for a very big, unpleasant surprise -- `mylist`'s value is now the special and weird value `None`."
   ]
  },
  {
   "cell_type": "code",
   "execution_count": 90,
   "metadata": {},
   "outputs": [
    {
     "data": {
      "text/plain": [
       "40"
      ]
     },
     "execution_count": 90,
     "metadata": {},
     "output_type": "execute_result"
    }
   ],
   "source": [
    "# we can remove the final element from a list with the \"pop\" method\n",
    "\n",
    "mylist.pop()\n"
   ]
  },
  {
   "cell_type": "code",
   "execution_count": 91,
   "metadata": {},
   "outputs": [
    {
     "data": {
      "text/plain": [
       "[10, 20, 30]"
      ]
     },
     "execution_count": 91,
     "metadata": {},
     "output_type": "execute_result"
    }
   ],
   "source": [
    "mylist"
   ]
  },
  {
   "cell_type": "code",
   "execution_count": 92,
   "metadata": {},
   "outputs": [
    {
     "data": {
      "text/plain": [
       "[10, 20, 30]"
      ]
     },
     "execution_count": 92,
     "metadata": {},
     "output_type": "execute_result"
    }
   ],
   "source": [
    "# start with an empty list\n",
    "mylist = []\n",
    "\n",
    "mylist.append(10)\n",
    "mylist.append(20)\n",
    "mylist.append(30)\n",
    "\n",
    "mylist"
   ]
  },
  {
   "cell_type": "code",
   "execution_count": 93,
   "metadata": {},
   "outputs": [],
   "source": [
    "# if you start with an empty list, and then through your program iterate over\n",
    "# something, you can accumulate information in the list"
   ]
  },
  {
   "cell_type": "markdown",
   "metadata": {},
   "source": [
    "# Exercise: Odds and evens\n",
    "\n",
    "1. Create two empty lists, `odds` and `evens`.\n",
    "2. Ask the user to enter numbers, one at a time.\n",
    "3. If the user enters an empty string, stop asking.\n",
    "4. Otherwise, turn the user's input into an integer, and check if the number is odd or even.  \n",
    "5. Add the number to the appropriate list.\n",
    "6. After the user enters an empty string and we exit from the loop, print `odds` and `evens`.\n",
    "\n",
    "Example:\n",
    "\n",
    "    Enter a number: 10\n",
    "    Enter a number: 15\n",
    "    Enter a number: 23\n",
    "    Enter a number: 50\n",
    "    Enter a number: [ENTER]\n",
    "    odds: [15, 23]\n",
    "    evens: [10, 50]\n",
    "    \n",
    "How do you know if a number is odd or even?  You divide it by 2, and check if the remainder is 0 (even) or 1 (odd).  The `%` (\"modulus\") operator performs this for us, returning the remainder from division.  So `5 % 2` is 1, but `6 % 2` is 0.    "
   ]
  },
  {
   "cell_type": "code",
   "execution_count": 94,
   "metadata": {},
   "outputs": [
    {
     "name": "stdout",
     "output_type": "stream",
     "text": [
      "Enter a number: 10\n",
      "Enter a number: 15\n",
      "Enter a number: 23\n",
      "Enter a number: 85\n",
      "Enter a number: 98\n",
      "Enter a number: 126\n",
      "Enter a number: \n",
      "odds = [15, 23, 85]\n",
      "evens = [10, 98, 126]\n"
     ]
    }
   ],
   "source": [
    "odds = []\n",
    "evens = []\n",
    "\n",
    "while True:\n",
    "    s = input('Enter a number: ').strip()\n",
    "    \n",
    "    if s == '':  # got an empty string?  Exit the loop\n",
    "        break\n",
    "        \n",
    "    n = int(s)\n",
    "\n",
    "    if n % 2 == 0:  # even\n",
    "        evens.append(n)  \n",
    "    else:\n",
    "        odds.append(n)\n",
    "            \n",
    "print(f'odds = {odds}')        \n",
    "print(f'evens = {evens}')"
   ]
  },
  {
   "cell_type": "code",
   "execution_count": 95,
   "metadata": {},
   "outputs": [
    {
     "data": {
      "text/plain": [
       "3.3333333333333335"
      ]
     },
     "execution_count": 95,
     "metadata": {},
     "output_type": "execute_result"
    }
   ],
   "source": [
    "10 / 3   #  division, returns a float"
   ]
  },
  {
   "cell_type": "code",
   "execution_count": 96,
   "metadata": {},
   "outputs": [
    {
     "data": {
      "text/plain": [
       "1"
      ]
     },
     "execution_count": 96,
     "metadata": {},
     "output_type": "execute_result"
    }
   ],
   "source": [
    "10 % 3   # modulus, returns the int remainder from 10 / 3"
   ]
  },
  {
   "cell_type": "code",
   "execution_count": 97,
   "metadata": {},
   "outputs": [
    {
     "data": {
      "text/plain": [
       "3"
      ]
     },
     "execution_count": 97,
     "metadata": {},
     "output_type": "execute_result"
    }
   ],
   "source": [
    "10 // 3   # integer division, return the whole number part of 10/3"
   ]
  },
  {
   "cell_type": "code",
   "execution_count": 98,
   "metadata": {},
   "outputs": [
    {
     "data": {
      "text/plain": [
       "41.0"
      ]
     },
     "execution_count": 98,
     "metadata": {},
     "output_type": "execute_result"
    }
   ],
   "source": [
    "# What if I want the mean values in each of odds and evens?\n",
    "\n",
    "sum(odds) / len(odds)  "
   ]
  },
  {
   "cell_type": "code",
   "execution_count": null,
   "metadata": {},
   "outputs": [],
   "source": []
  },
  {
   "cell_type": "code",
   "execution_count": 99,
   "metadata": {},
   "outputs": [
    {
     "data": {
      "text/plain": [
       "78.0"
      ]
     },
     "execution_count": 99,
     "metadata": {},
     "output_type": "execute_result"
    }
   ],
   "source": [
    "sum(evens) / len(evens)"
   ]
  },
  {
   "cell_type": "code",
   "execution_count": 101,
   "metadata": {},
   "outputs": [
    {
     "name": "stdout",
     "output_type": "stream",
     "text": [
      "Enter a number: 10\n",
      "odds = []\n",
      "evens = [10]\n",
      "Enter a number: 15\n",
      "odds = [15]\n",
      "evens = [10]\n",
      "Enter a number: 20\n",
      "odds = [15]\n",
      "evens = [10, 20]\n",
      "Enter a number: \n"
     ]
    }
   ],
   "source": [
    "odds = []\n",
    "evens = []\n",
    "\n",
    "while True:\n",
    "    s = input('Enter a number: ').strip()\n",
    "    \n",
    "    if s == '':  # got an empty string?  Exit the loop\n",
    "        break\n",
    "        \n",
    "    n = int(s)\n",
    "\n",
    "    if n % 2 == 0:  # even\n",
    "        evens.append(n)  \n",
    "    else:\n",
    "        odds.append(n)\n",
    "            \n",
    "print(f'odds = {odds}')        \n",
    "print(f'evens = {evens}')"
   ]
  },
  {
   "cell_type": "markdown",
   "metadata": {},
   "source": [
    "# Next up:\n",
    "\n",
    "- Strings to lists, and back\n",
    "- A little about tuples\n"
   ]
  },
  {
   "cell_type": "code",
   "execution_count": 102,
   "metadata": {},
   "outputs": [
    {
     "data": {
      "text/plain": [
       "12345"
      ]
     },
     "execution_count": 102,
     "metadata": {},
     "output_type": "execute_result"
    }
   ],
   "source": [
    "# how do we convert from one type to another?  We invoke the type we want\n",
    "# as a function\n",
    "\n",
    "s = '12345'\n",
    "int(s)  # get an int, based on s"
   ]
  },
  {
   "cell_type": "code",
   "execution_count": 103,
   "metadata": {},
   "outputs": [
    {
     "data": {
      "text/plain": [
       "12345.0"
      ]
     },
     "execution_count": 103,
     "metadata": {},
     "output_type": "execute_result"
    }
   ],
   "source": [
    "float(s)  # get a float, based on s"
   ]
  },
  {
   "cell_type": "code",
   "execution_count": 104,
   "metadata": {},
   "outputs": [
    {
     "data": {
      "text/plain": [
       "'10'"
      ]
     },
     "execution_count": 104,
     "metadata": {},
     "output_type": "execute_result"
    }
   ],
   "source": [
    "str(10)"
   ]
  },
  {
   "cell_type": "code",
   "execution_count": 107,
   "metadata": {},
   "outputs": [
    {
     "data": {
      "text/plain": [
       "['a', 'b', 'c', 'd', 'e']"
      ]
     },
     "execution_count": 107,
     "metadata": {},
     "output_type": "execute_result"
    }
   ],
   "source": [
    "# if I have a string, and want a list, what do I do?\n",
    "s = 'abcde'\n",
    "list(s)  # return a new list, but..."
   ]
  },
  {
   "cell_type": "code",
   "execution_count": 106,
   "metadata": {},
   "outputs": [
    {
     "data": {
      "text/plain": [
       "'[10, 20, 30]'"
      ]
     },
     "execution_count": 106,
     "metadata": {},
     "output_type": "execute_result"
    }
   ],
   "source": [
    "mylist = [10, 20, 30]\n",
    "str(mylist)  # returns a new string... but"
   ]
  },
  {
   "cell_type": "code",
   "execution_count": 109,
   "metadata": {},
   "outputs": [
    {
     "data": {
      "text/plain": [
       "['abcd', 'efghi', 'jk', 'lmno']"
      ]
     },
     "execution_count": 109,
     "metadata": {},
     "output_type": "execute_result"
    }
   ],
   "source": [
    "# this is especially problematic in some cases.\n",
    "\n",
    "s = 'abcd,efghi,jk,lmno'  # sort of like CSV format (comma-separated values)\n",
    "\n",
    "# I want to turn s into a list of strings, the words between commas\n",
    "\n",
    "# I can use the \"split\" method for strings\n",
    "\n",
    "s.split(',')  # this means: cut wherever you see ','"
   ]
  },
  {
   "cell_type": "code",
   "execution_count": 110,
   "metadata": {},
   "outputs": [
    {
     "data": {
      "text/plain": [
       "'abcd,efghi,jk,lmno'"
      ]
     },
     "execution_count": 110,
     "metadata": {},
     "output_type": "execute_result"
    }
   ],
   "source": [
    "s"
   ]
  },
  {
   "cell_type": "code",
   "execution_count": 111,
   "metadata": {},
   "outputs": [
    {
     "data": {
      "text/plain": [
       "['abcd,ef', 'hi,jk,lmno']"
      ]
     },
     "execution_count": 111,
     "metadata": {},
     "output_type": "execute_result"
    }
   ],
   "source": [
    "# could I split on something else?  Sure!\n",
    "s.split('g')"
   ]
  },
  {
   "cell_type": "code",
   "execution_count": 112,
   "metadata": {},
   "outputs": [
    {
     "data": {
      "text/plain": [
       "['This', 'is', 'a', 'bunch', 'of', 'words']"
      ]
     },
     "execution_count": 112,
     "metadata": {},
     "output_type": "execute_result"
    }
   ],
   "source": [
    "s = 'This is a bunch of words'\n",
    "s.split(' ')"
   ]
  },
  {
   "cell_type": "code",
   "execution_count": 113,
   "metadata": {},
   "outputs": [
    {
     "data": {
      "text/plain": [
       "['This', '', '', 'is', 'a', '', '', '', '', 'bunch', 'of', '', '', 'words']"
      ]
     },
     "execution_count": 113,
     "metadata": {},
     "output_type": "execute_result"
    }
   ],
   "source": [
    "s = 'This   is a     bunch of   words'\n",
    "s.split(' ')"
   ]
  },
  {
   "cell_type": "code",
   "execution_count": 114,
   "metadata": {},
   "outputs": [
    {
     "data": {
      "text/plain": [
       "['This', 'is', 'a', 'bunch', 'of', 'words']"
      ]
     },
     "execution_count": 114,
     "metadata": {},
     "output_type": "execute_result"
    }
   ],
   "source": [
    "# what can we do about this?\n",
    "# we want Python to treat one or more spaces as a single space character\n",
    "\n",
    "# the solution is: do *LESS* work!\n",
    "# if you pass *NO* argument to str.split, it assumes that the delimiter\n",
    "# is all whitespace (space, \\n, \\t, etc.), of any length.\n",
    "\n",
    "s.split()  "
   ]
  },
  {
   "cell_type": "code",
   "execution_count": 115,
   "metadata": {},
   "outputs": [],
   "source": [
    "# str.split (as we can tell from the name) is a string\n",
    "# method, but one that always returns a list of strings."
   ]
  },
  {
   "cell_type": "code",
   "execution_count": 116,
   "metadata": {},
   "outputs": [
    {
     "data": {
      "text/plain": [
       "['abcd', 'efgh', 'ijkl', 'mn']"
      ]
     },
     "execution_count": 116,
     "metadata": {},
     "output_type": "execute_result"
    }
   ],
   "source": [
    "s = 'abcd:efgh:ijkl:mn'\n",
    "s.split(':')  # this means: give me a list of strings, based on s, cutting s at :"
   ]
  },
  {
   "cell_type": "markdown",
   "metadata": {},
   "source": [
    "# Exercise: Sum numbers\n",
    "\n",
    "1. Define `total` to be 0.\n",
    "2. Ask the user to enter a single string containing numbers, separated by spaces.\n",
    "3. Turn the string into a list\n",
    "4. Go through each word/element in the string\n",
    "5. If it can be turned into an integer, then do so, and add to `total`.\n",
    "6. Print `total`.\n",
    "\n",
    "Example:\n",
    "\n",
    "    Enter a string: 10 20 30 abcd 40\n",
    "    Total is 100"
   ]
  },
  {
   "cell_type": "code",
   "execution_count": 118,
   "metadata": {},
   "outputs": [
    {
     "data": {
      "text/plain": [
       "['a', 'b']"
      ]
     },
     "execution_count": 118,
     "metadata": {},
     "output_type": "execute_result"
    }
   ],
   "source": [
    "x = 'a b'\n",
    "\n",
    "x.split()  # meaning: return a list of strings based on x, using whitespace as the separator"
   ]
  },
  {
   "cell_type": "code",
   "execution_count": 120,
   "metadata": {},
   "outputs": [
    {
     "name": "stdout",
     "output_type": "stream",
     "text": [
      "Enter a string: 10 100 50 3 help 45\n",
      "numbers = ['10', '100', '50', '3', 'help', '45']\n",
      "Ignoring non-numeric help\n",
      "Total is 208\n"
     ]
    }
   ],
   "source": [
    "total = 0\n",
    "\n",
    "s = input('Enter a string: ')\n",
    "\n",
    "numbers = s.split()  # return  a list of strings, cutting on whitespace\n",
    "print(f'numbers = {numbers}')\n",
    "\n",
    "for one_number in numbers:\n",
    "    if one_number.isdigit():  # string method that indicates if characters are 0-9 only\n",
    "        total += int(one_number)\n",
    "    else:\n",
    "        print(f'Ignoring non-numeric {one_number}')\n",
    "        \n",
    "print(f'Total is {total}')        "
   ]
  },
  {
   "cell_type": "code",
   "execution_count": 121,
   "metadata": {},
   "outputs": [
    {
     "data": {
      "text/plain": [
       "'abcd**efgh**ijklm'"
      ]
     },
     "execution_count": 121,
     "metadata": {},
     "output_type": "execute_result"
    }
   ],
   "source": [
    "# we've now seen how we can go from a string to a list\n",
    "# how about the other direction -- how do we create a string from a list?\n",
    "\n",
    "mylist = ['abcd', 'efgh', 'ijklm']\n",
    "\n",
    "# I can create a new string based on mylist, joining them together with \n",
    "# a \"glue\" string, using the \"join\" method:\n",
    "\n",
    "'**'.join(mylist)  # return a string with element of mylist joined with \"**\""
   ]
  },
  {
   "cell_type": "code",
   "execution_count": 122,
   "metadata": {},
   "outputs": [
    {
     "data": {
      "text/plain": [
       "'abcd\\nefgh\\nijklm'"
      ]
     },
     "execution_count": 122,
     "metadata": {},
     "output_type": "execute_result"
    }
   ],
   "source": [
    "'\\n'.join(mylist)"
   ]
  },
  {
   "cell_type": "code",
   "execution_count": 123,
   "metadata": {},
   "outputs": [
    {
     "data": {
      "text/plain": [
       "'abcd  efgh  ijklm'"
      ]
     },
     "execution_count": 123,
     "metadata": {},
     "output_type": "execute_result"
    }
   ],
   "source": [
    "'  '.join(mylist)"
   ]
  },
  {
   "cell_type": "code",
   "execution_count": 124,
   "metadata": {},
   "outputs": [
    {
     "ename": "TypeError",
     "evalue": "sequence item 0: expected str instance, int found",
     "output_type": "error",
     "traceback": [
      "\u001b[0;31m---------------------------------------------------------------------------\u001b[0m",
      "\u001b[0;31mTypeError\u001b[0m                                 Traceback (most recent call last)",
      "\u001b[0;32m<ipython-input-124-550c72ca2d5e>\u001b[0m in \u001b[0;36m<module>\u001b[0;34m\u001b[0m\n\u001b[1;32m      1\u001b[0m \u001b[0;31m# Note: The elements of the list passed to str.join must be strings.\u001b[0m\u001b[0;34m\u001b[0m\u001b[0;34m\u001b[0m\u001b[0;34m\u001b[0m\u001b[0m\n\u001b[1;32m      2\u001b[0m \u001b[0;34m\u001b[0m\u001b[0m\n\u001b[0;32m----> 3\u001b[0;31m \u001b[0;34m'*'\u001b[0m\u001b[0;34m.\u001b[0m\u001b[0mjoin\u001b[0m\u001b[0;34m(\u001b[0m\u001b[0;34m[\u001b[0m\u001b[0;36m10\u001b[0m\u001b[0;34m,\u001b[0m \u001b[0;36m20\u001b[0m\u001b[0;34m,\u001b[0m \u001b[0;36m30\u001b[0m\u001b[0;34m]\u001b[0m\u001b[0;34m)\u001b[0m\u001b[0;34m\u001b[0m\u001b[0;34m\u001b[0m\u001b[0m\n\u001b[0m",
      "\u001b[0;31mTypeError\u001b[0m: sequence item 0: expected str instance, int found"
     ]
    }
   ],
   "source": [
    "# Note: The elements of the list passed to str.join must be strings.\n",
    "\n",
    "'*'.join([10, 20, 30])"
   ]
  },
  {
   "cell_type": "code",
   "execution_count": null,
   "metadata": {},
   "outputs": [],
   "source": [
    "# Joining is especially useful when combined with accumulating.\n",
    "# That is: Start with an empty list, accumulate strings/words in\n",
    "# the list over time.  And then join them together, perhaps with ' ',\n",
    "# at the end."
   ]
  }
 ],
 "metadata": {
  "kernelspec": {
   "display_name": "Python 3",
   "language": "python",
   "name": "python3"
  },
  "language_info": {
   "codemirror_mode": {
    "name": "ipython",
    "version": 3
   },
   "file_extension": ".py",
   "mimetype": "text/x-python",
   "name": "python",
   "nbconvert_exporter": "python",
   "pygments_lexer": "ipython3",
   "version": "3.9.6"
  }
 },
 "nbformat": 4,
 "nbformat_minor": 4
}

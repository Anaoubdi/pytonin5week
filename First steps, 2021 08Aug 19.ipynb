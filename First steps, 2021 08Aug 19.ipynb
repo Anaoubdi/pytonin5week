{
 "cells": [
  {
   "cell_type": "markdown",
   "metadata": {},
   "source": [
    "# Agenda: Week 2 (Loops, lists, and tuples)\n",
    "\n",
    "1. Loops\n",
    "    - `for` loops\n",
    "    - looping a number of times\n",
    "    - `while` loops\n",
    "    - indexes -- do we need them?  Where are they?\n",
    "2. Lists\n",
    "    - What are they?\n",
    "    - How are they the same as (and different from) strings?\n",
    "    - Mutability vs. immutability\n",
    "3. Strings to lists and back\n",
    "    - Splitting\n",
    "    - Joining\n",
    "4. Tuples\n",
    "    - What are they?\n",
    "    - Why do we care? (Do we care?)\n",
    "    - How are they the same as (and different from) lists and strings?\n",
    "\n"
   ]
  },
  {
   "cell_type": "code",
   "execution_count": 1,
   "metadata": {},
   "outputs": [],
   "source": [
    "s = 'abcde'\n"
   ]
  },
  {
   "cell_type": "code",
   "execution_count": 2,
   "metadata": {},
   "outputs": [],
   "source": [
    "%config Completer.use_jedi = False"
   ]
  },
  {
   "cell_type": "markdown",
   "metadata": {},
   "source": [
    "# What are f-strings?\n",
    "\n",
    "1. They are strings!  They just make it easier to create strings.\n",
    "2. They look just like regular strings, except:\n",
    "    - there is an `f` before the opening quote\n",
    "    - in the string, anything in `{` and `}` is taken to be Python code, and its value is put in the string"
   ]
  },
  {
   "cell_type": "code",
   "execution_count": 3,
   "metadata": {},
   "outputs": [],
   "source": [
    "x = 10\n",
    "y = 20\n",
    "\n",
    "s = f'{x} + {y} = {x+y}'"
   ]
  },
  {
   "cell_type": "code",
   "execution_count": 4,
   "metadata": {},
   "outputs": [
    {
     "name": "stdout",
     "output_type": "stream",
     "text": [
      "10 + 20 = 30\n"
     ]
    }
   ],
   "source": [
    "print(s)"
   ]
  },
  {
   "cell_type": "code",
   "execution_count": 5,
   "metadata": {},
   "outputs": [
    {
     "data": {
      "text/plain": [
       "'20 = 30'"
      ]
     },
     "execution_count": 5,
     "metadata": {},
     "output_type": "execute_result"
    }
   ],
   "source": [
    "s[5:]  # slice on this string"
   ]
  },
  {
   "cell_type": "markdown",
   "metadata": {},
   "source": [
    "# Functions vs. methods\n",
    "\n",
    "These are both types of verbs that we can execute on our data.  The difference is mostly one of syntax:\n",
    "\n",
    "- Functions look like this: `FUNC(DATA)`\n",
    "- Methods look like this: `DATA.METHOD()`\n",
    "\n",
    "Most verbs in Python are actually methods.  For example:\n",
    "\n",
    "```python\n",
    "s = 'abcd efgh'\n",
    "s.capitalize()   # method; returns 'Abcd efgh'\n",
    "s.title()        # method; returns 'Abcd Efgh'\n",
    "\n",
    "len(s)           # function; that returns 9\n",
    "```"
   ]
  },
  {
   "cell_type": "code",
   "execution_count": 6,
   "metadata": {},
   "outputs": [
    {
     "data": {
      "text/plain": [
       "'a    b    c'"
      ]
     },
     "execution_count": 6,
     "metadata": {},
     "output_type": "execute_result"
    }
   ],
   "source": [
    "# one really useful method is `str.strip` \n",
    "\n",
    "s = '   a    b    c   '\n",
    "\n",
    "s.strip()  # returns a new string with no spaces at the start or end"
   ]
  },
  {
   "cell_type": "code",
   "execution_count": 7,
   "metadata": {},
   "outputs": [],
   "source": [
    "# How do I find out what methods are available?\n",
    "\n",
    "# (1) Look in the documentation at docs.python.org\n",
    "# (2) Use tab (or other completion) in Jupyter/PyCharm/VSCode/etc."
   ]
  },
  {
   "cell_type": "code",
   "execution_count": 8,
   "metadata": {},
   "outputs": [
    {
     "data": {
      "text/plain": [
       "False"
      ]
     },
     "execution_count": 8,
     "metadata": {},
     "output_type": "execute_result"
    }
   ],
   "source": [
    "s.isdigit()   # returns True if the string only contains 0-9"
   ]
  },
  {
   "cell_type": "markdown",
   "metadata": {},
   "source": [
    "# What are loops?\n",
    "\n",
    "Let's assume that I have a string, and I want to print each of the characters in the string."
   ]
  },
  {
   "cell_type": "code",
   "execution_count": 9,
   "metadata": {},
   "outputs": [
    {
     "name": "stdout",
     "output_type": "stream",
     "text": [
      "a\n",
      "b\n",
      "c\n",
      "d\n"
     ]
    }
   ],
   "source": [
    "s = 'abcd'\n",
    "\n",
    "print(s[0])    # unfortunately, this works!\n",
    "print(s[1])\n",
    "print(s[2])\n",
    "print(s[3])"
   ]
  },
  {
   "cell_type": "markdown",
   "metadata": {},
   "source": [
    "# DRY (Don't Repeat Yourself!)\n",
    "\n",
    "There are a bunch of reasons you don't want to repeat yourself in code:\n",
    "\n",
    "1. More to remember\n",
    "2. If you have to fix it in one place, you'll have to fix it in many places\n",
    "3. Harder to explain to newcomers who will read/maintain the code"
   ]
  },
  {
   "cell_type": "code",
   "execution_count": 10,
   "metadata": {},
   "outputs": [],
   "source": [
    "# How can DRY up this code?  Loop.  \n",
    "# Loops repeat code execution, again and again, allowing us to write things once.\n",
    "\n",
    "# There are two basic types of loops:\n",
    "# - for loops\n",
    "# - while loops"
   ]
  },
  {
   "cell_type": "code",
   "execution_count": 11,
   "metadata": {},
   "outputs": [
    {
     "name": "stdout",
     "output_type": "stream",
     "text": [
      "a\n",
      "b\n",
      "c\n",
      "d\n"
     ]
    }
   ],
   "source": [
    "s = 'abcd'\n",
    "\n",
    "for one_character in s:\n",
    "    print(one_character)   # loop body"
   ]
  },
  {
   "cell_type": "code",
   "execution_count": 12,
   "metadata": {},
   "outputs": [
    {
     "name": "stdout",
     "output_type": "stream",
     "text": [
      "a\n",
      "b\n",
      "c\n",
      "d\n"
     ]
    }
   ],
   "source": [
    "for one_terabyte in s:\n",
    "    print(one_terabyte)   # loop body"
   ]
  },
  {
   "cell_type": "markdown",
   "metadata": {},
   "source": [
    "# What's happening in our loop?\n",
    "\n",
    "1. The `for` loop asks the object (`s`, in our case) at the end of the line: Are you iterable? That is: Do you know how to behave inside of a `for` loop?\n",
    "2. If the answer is \"yes,\" then the `for` loop continues:\n",
    "    - What's your next thing, `s`?\n",
    "    - Either `s` gives the next thing to the `for` loop, assigning it to `one_character`, or we're at the end, and exit the loop.\n",
    "    - If we got something, then we go back and ask for more and more and more..."
   ]
  },
  {
   "cell_type": "code",
   "execution_count": 13,
   "metadata": {},
   "outputs": [],
   "source": [
    "# ASCII -- American Standard Code for Information Interchange\n",
    "# in other words -- what number represents which character?\n",
    "\n",
    "# 65 'A'\n",
    "# 32 ' '\n",
    "\n",
    "# the problem is that it was invented by Americans!"
   ]
  },
  {
   "cell_type": "code",
   "execution_count": 14,
   "metadata": {},
   "outputs": [],
   "source": [
    "# Unicode -- an attempt to give a unique number to every character\n",
    "# on the planet -- English, French, Russian, Arabic, Hebrew, Chinese, Korean, Japanese\n",
    "# also: emojis, music, etc.\n",
    "\n",
    "# the good news: it works!\n",
    "# the bad news: we need more than 8 bits (512 different characters)\n",
    "# how do we combine these?  It gets messy!\n",
    "\n",
    "# some characters will need 2, 3, or 4 bytes"
   ]
  },
  {
   "cell_type": "code",
   "execution_count": 16,
   "metadata": {},
   "outputs": [
    {
     "data": {
      "text/plain": [
       "4"
      ]
     },
     "execution_count": 16,
     "metadata": {},
     "output_type": "execute_result"
    }
   ],
   "source": [
    "s = 'abcd'\n",
    "len(s)  # 4 characters"
   ]
  },
  {
   "cell_type": "code",
   "execution_count": 17,
   "metadata": {},
   "outputs": [
    {
     "data": {
      "text/plain": [
       "4"
      ]
     },
     "execution_count": 17,
     "metadata": {},
     "output_type": "execute_result"
    }
   ],
   "source": [
    "s = 'שלום'\n",
    "len(s)  # still four characters!"
   ]
  },
  {
   "cell_type": "code",
   "execution_count": 18,
   "metadata": {},
   "outputs": [
    {
     "data": {
      "text/plain": [
       "2"
      ]
     },
     "execution_count": 18,
     "metadata": {},
     "output_type": "execute_result"
    }
   ],
   "source": [
    "s = '北京'\n",
    "len(s)  # two characters!"
   ]
  },
  {
   "cell_type": "code",
   "execution_count": 19,
   "metadata": {},
   "outputs": [
    {
     "name": "stdout",
     "output_type": "stream",
     "text": [
      "北\n",
      "京\n"
     ]
    }
   ],
   "source": [
    "for one_character in s:\n",
    "    print(one_character)"
   ]
  },
  {
   "cell_type": "code",
   "execution_count": 20,
   "metadata": {},
   "outputs": [
    {
     "name": "stdout",
     "output_type": "stream",
     "text": [
      "***H***\n",
      "e\n",
      "l\n",
      "l\n",
      "o\n"
     ]
    }
   ],
   "source": [
    "s = 'Hello'  # defined s to be a string\n",
    "\n",
    "for one_character in s:\n",
    "    if one_character == 'H':\n",
    "        print(f'***H***')\n",
    "    else:\n",
    "        print(one_character)"
   ]
  },
  {
   "cell_type": "code",
   "execution_count": 21,
   "metadata": {},
   "outputs": [],
   "source": [
    "x = 0   # assigns the value 0 (an integer) to the variable x"
   ]
  },
  {
   "cell_type": "code",
   "execution_count": null,
   "metadata": {},
   "outputs": [],
   "source": []
  },
  {
   "cell_type": "markdown",
   "metadata": {},
   "source": [
    "# Exercise: Vowel and consonant counter\n",
    "\n",
    "1. Set two variables, `vowel_count` and `consonant_count`, to 0.\n",
    "2. Ask the user to enter a string.\n",
    "3. Iterate over the string with a `for` loop.\n",
    "    - If the current character is a vowel, increment `vowel_count`.\n",
    "    - If the current character is a consonant, increment `consonant_count`.\n",
    "    - If it's neither, print a short warning and otherwise ignore it.\n",
    "4. Print both counts."
   ]
  },
  {
   "cell_type": "code",
   "execution_count": 24,
   "metadata": {},
   "outputs": [
    {
     "name": "stdout",
     "output_type": "stream",
     "text": [
      "Enter a string: hello out there\n",
      "Found consonant h\n",
      "Found vowel e\n",
      "Found consonant l\n",
      "Found consonant l\n",
      "Found vowel o\n",
      "Hey!  I got  , which is neither\n",
      "Found vowel o\n",
      "Found vowel u\n",
      "Found consonant t\n",
      "Hey!  I got  , which is neither\n",
      "Found consonant t\n",
      "Found consonant h\n",
      "Found vowel e\n",
      "Found consonant r\n",
      "Found vowel e\n"
     ]
    }
   ],
   "source": [
    "vowel_count = 0\n",
    "consonant_count = 0\n",
    "\n",
    "s = input('Enter a string: ').strip()  # strip the input, then assign to s\n",
    "\n",
    "for one_character in s:\n",
    "    if one_character in 'aeiou':\n",
    "        print(f'Found vowel {one_character}')\n",
    "    elif one_character in 'bcdfghjklmnpqrstvwxyz':\n",
    "        print(f'Found consonant {one_character}')\n",
    "    else:\n",
    "        print(f'Hey!  I got {one_character}, which is neither')"
   ]
  },
  {
   "cell_type": "code",
   "execution_count": 25,
   "metadata": {},
   "outputs": [
    {
     "name": "stdout",
     "output_type": "stream",
     "text": [
      "Enter a string: hello\n",
      "Vowels: 2\n",
      "Consonants: 3\n"
     ]
    }
   ],
   "source": [
    "vowel_count = 0\n",
    "consonant_count = 0\n",
    "\n",
    "# vowel_count = consonant_count = 0  # I personally detest this\n",
    "\n",
    "s = input('Enter a string: ').strip()  # strip the input, then assign to s\n",
    "\n",
    "for one_character in s.lower():  # iterate over the lowercase version of s\n",
    "    if one_character in 'aeiou':\n",
    "        vowel_count += 1\n",
    "    elif one_character.isalpha():  # alphabetical but not a vowel\n",
    "        consonant_count += 1\n",
    "    else:\n",
    "        print(f'Hey!  I got {one_character}, which is neither')\n",
    "        \n",
    "print(f'Vowels: {vowel_count}')        \n",
    "print(f'Consonants: {consonant_count}')"
   ]
  },
  {
   "cell_type": "code",
   "execution_count": null,
   "metadata": {},
   "outputs": [],
   "source": [
    "vowel_count = 0\n",
    "consonant_count = 0\n",
    "\n",
    "# vowel_count = consonant_count = 0  # I personally detest this\n",
    "\n",
    "s = input('Enter a string: ').strip().lower()\n",
    "\n",
    "for one_character in s:  # iterate over the lowercase version of s\n",
    "    if one_character in 'aeiou':\n",
    "        vowel_count += 1  # add 1 to vowel_count\n",
    "    elif one_character.isalpha():  # alphabetical but not a vowel\n",
    "        consonant_count += 1  # add 1 to consonant_count\n",
    "    else:\n",
    "        print(f'Hey!  I got {one_character}, which is neither')\n",
    "        \n",
    "print(f'Vowels: {vowel_count}')        \n",
    "print(f'Consonants: {consonant_count}')"
   ]
  },
  {
   "cell_type": "code",
   "execution_count": 26,
   "metadata": {},
   "outputs": [
    {
     "data": {
      "text/plain": [
       "'ABCD'"
      ]
     },
     "execution_count": 26,
     "metadata": {},
     "output_type": "execute_result"
    }
   ],
   "source": [
    "s = 'abcd'\n",
    "s.upper()"
   ]
  },
  {
   "cell_type": "code",
   "execution_count": 27,
   "metadata": {},
   "outputs": [
    {
     "ename": "TypeError",
     "evalue": "'str' object is not callable",
     "output_type": "error",
     "traceback": [
      "\u001b[0;31m---------------------------------------------------------------------------\u001b[0m",
      "\u001b[0;31mTypeError\u001b[0m                                 Traceback (most recent call last)",
      "\u001b[0;32m<ipython-input-27-def6465ecff1>\u001b[0m in \u001b[0;36m<module>\u001b[0;34m\u001b[0m\n\u001b[0;32m----> 1\u001b[0;31m \u001b[0ms\u001b[0m\u001b[0;34m(\u001b[0m\u001b[0;34m)\u001b[0m   \u001b[0;31m# this will not work!\u001b[0m\u001b[0;34m\u001b[0m\u001b[0;34m\u001b[0m\u001b[0m\n\u001b[0m",
      "\u001b[0;31mTypeError\u001b[0m: 'str' object is not callable"
     ]
    }
   ],
   "source": [
    "s()   # this will not work!"
   ]
  },
  {
   "cell_type": "markdown",
   "metadata": {},
   "source": [
    "# Next up\n",
    "\n",
    "1. Iterating a number of times\n",
    "2. `range`\n",
    "3. `while` loops\n"
   ]
  },
  {
   "cell_type": "code",
   "execution_count": 28,
   "metadata": {},
   "outputs": [
    {
     "name": "stdout",
     "output_type": "stream",
     "text": [
      "Reuven\n",
      "Reuven\n"
     ]
    }
   ],
   "source": [
    "first_name = 'Reuven'\n",
    "\n",
    "print(first_name)\n",
    "print(first_name)"
   ]
  },
  {
   "cell_type": "code",
   "execution_count": 29,
   "metadata": {},
   "outputs": [
    {
     "name": "stdout",
     "output_type": "stream",
     "text": [
      "Yay!\n",
      "Yay!\n",
      "Yay!\n"
     ]
    }
   ],
   "source": [
    "# What if I want to do something several times?\n",
    "\n",
    "# Example: I'm in a great mood.  I want to celebrate.\n",
    "\n",
    "print('Yay!')\n",
    "print('Yay!')\n",
    "print('Yay!')"
   ]
  },
  {
   "cell_type": "code",
   "execution_count": 30,
   "metadata": {},
   "outputs": [
    {
     "ename": "TypeError",
     "evalue": "'int' object is not iterable",
     "output_type": "error",
     "traceback": [
      "\u001b[0;31m---------------------------------------------------------------------------\u001b[0m",
      "\u001b[0;31mTypeError\u001b[0m                                 Traceback (most recent call last)",
      "\u001b[0;32m<ipython-input-30-ed86a2d2a52a>\u001b[0m in \u001b[0;36m<module>\u001b[0;34m\u001b[0m\n\u001b[1;32m      1\u001b[0m \u001b[0;31m# I know what I'll do!  I'll iterate over the number 3!\u001b[0m\u001b[0;34m\u001b[0m\u001b[0;34m\u001b[0m\u001b[0;34m\u001b[0m\u001b[0m\n\u001b[1;32m      2\u001b[0m \u001b[0;34m\u001b[0m\u001b[0m\n\u001b[0;32m----> 3\u001b[0;31m \u001b[0;32mfor\u001b[0m \u001b[0mone_number\u001b[0m \u001b[0;32min\u001b[0m \u001b[0;36m3\u001b[0m\u001b[0;34m:\u001b[0m\u001b[0;34m\u001b[0m\u001b[0;34m\u001b[0m\u001b[0m\n\u001b[0m\u001b[1;32m      4\u001b[0m     \u001b[0mprint\u001b[0m\u001b[0;34m(\u001b[0m\u001b[0;34m'Yay!'\u001b[0m\u001b[0;34m)\u001b[0m\u001b[0;34m\u001b[0m\u001b[0;34m\u001b[0m\u001b[0m\n",
      "\u001b[0;31mTypeError\u001b[0m: 'int' object is not iterable"
     ]
    }
   ],
   "source": [
    "# I know what I'll do!  I'll iterate over the number 3!\n",
    "\n",
    "for one_number in 3:\n",
    "    print('Yay!')"
   ]
  },
  {
   "cell_type": "code",
   "execution_count": 31,
   "metadata": {},
   "outputs": [
    {
     "name": "stdout",
     "output_type": "stream",
     "text": [
      "Yay!\n",
      "Yay!\n",
      "Yay!\n"
     ]
    }
   ],
   "source": [
    "# you cannot iterate over integers in Python .\n",
    "# but you *CAN* iterate over range(n)\n",
    "\n",
    "# range solves this problem, and does much more.\n",
    "\n",
    "for one_number in range(3):\n",
    "    print('Yay!')"
   ]
  },
  {
   "cell_type": "code",
   "execution_count": 32,
   "metadata": {},
   "outputs": [
    {
     "name": "stdout",
     "output_type": "stream",
     "text": [
      "0 Yay!\n",
      "1 Yay!\n",
      "2 Yay!\n"
     ]
    }
   ],
   "source": [
    "# What is contained in \"one_number\"?\n",
    "\n",
    "# range(3) returns, one at a time, the numbers 0, 1, 2\n",
    "# always going to be \"up to and NOT NOT NOT including\" the range number\n",
    "\n",
    "for one_number in range(3):\n",
    "    print(f'{one_number} Yay!')"
   ]
  },
  {
   "cell_type": "code",
   "execution_count": 34,
   "metadata": {},
   "outputs": [
    {
     "name": "stdout",
     "output_type": "stream",
     "text": [
      "a\n",
      "b\n",
      "c\n",
      "d\n"
     ]
    }
   ],
   "source": [
    "# I could say this:\n",
    "\n",
    "s = 'abcd'\n",
    "for i in range(len(s)):  # iterate over the numbers 0, 1, 2, 3\n",
    "    print(s[i])          # use that number to get one character from s"
   ]
  },
  {
   "cell_type": "code",
   "execution_count": 35,
   "metadata": {},
   "outputs": [
    {
     "data": {
      "text/plain": [
       "17"
      ]
     },
     "execution_count": 35,
     "metadata": {},
     "output_type": "execute_result"
    }
   ],
   "source": [
    "v = 5\n",
    "v += 1   # same as v = v + 1 -- after this line, v is 6\n",
    "v += 3   # same as v = v + 3  -- after this line, v is 9\n",
    "v += 8  # same as v = v + 8  -- after this line, v is 17\n",
    "v"
   ]
  },
  {
   "cell_type": "code",
   "execution_count": 36,
   "metadata": {},
   "outputs": [
    {
     "name": "stdout",
     "output_type": "stream",
     "text": [
      "0\n",
      "1\n",
      "2\n",
      "3\n",
      "4\n"
     ]
    }
   ],
   "source": [
    "for i in range(5):\n",
    "    print(i)"
   ]
  },
  {
   "cell_type": "code",
   "execution_count": 37,
   "metadata": {},
   "outputs": [
    {
     "name": "stdout",
     "output_type": "stream",
     "text": [
      "5\n",
      "6\n",
      "7\n",
      "8\n",
      "9\n"
     ]
    }
   ],
   "source": [
    "for i in range(5, 10):\n",
    "    print(i)"
   ]
  },
  {
   "cell_type": "code",
   "execution_count": 38,
   "metadata": {},
   "outputs": [
    {
     "name": "stdout",
     "output_type": "stream",
     "text": [
      "5\n",
      "8\n",
      "11\n",
      "14\n",
      "17\n"
     ]
    }
   ],
   "source": [
    "for i in range(5, 20, 3):  # from 5 until (not including) 20, step size 3\n",
    "    print(i)"
   ]
  },
  {
   "cell_type": "code",
   "execution_count": 39,
   "metadata": {},
   "outputs": [
    {
     "name": "stdout",
     "output_type": "stream",
     "text": [
      "abcd\n",
      "efgh\n"
     ]
    }
   ],
   "source": [
    "print('abcd\\nefgh')"
   ]
  },
  {
   "cell_type": "code",
   "execution_count": null,
   "metadata": {},
   "outputs": [],
   "source": []
  },
  {
   "cell_type": "markdown",
   "metadata": {},
   "source": [
    "# Exercise: Name triangles\n",
    "\n",
    "1. Ask the user to enter their name\n",
    "2. Print the user's name in a triangle:\n",
    "    - On the first line, print the first letter\n",
    "    - On the 2nd line, print the first 2 letters\n",
    "    - On the 3rd line, print the first 3 letters\n",
    "    - On the nth line, print the first n letters \n",
    "    \n",
    "Example:\n",
    "\n",
    "    Enter your name: Reuven\n",
    "    R\n",
    "    Re\n",
    "    Reu\n",
    "    Reuv\n",
    "    Reuve\n",
    "    Reuven\n",
    "    \n",
    "Remember:\n",
    "1. You can get a \"slice\" from a string with `s[start:stop+1]`\n",
    "2. You can always leave off the `start` or `stop+1` to go to the extreme edge\n"
   ]
  },
  {
   "cell_type": "code",
   "execution_count": 40,
   "metadata": {},
   "outputs": [
    {
     "name": "stdout",
     "output_type": "stream",
     "text": [
      "Enter your name: Reuven\n",
      "R\n",
      "Re\n",
      "Reu\n",
      "Reuv\n"
     ]
    }
   ],
   "source": [
    "name = input('Enter your name: ').strip()\n",
    "\n",
    "print(name[:1])  # up to and not including index 1\n",
    "print(name[:2])  # up to and not including index 2\n",
    "print(name[:3])  # up to and not including index 3\n",
    "print(name[:4])  # up to and not including index 4"
   ]
  },
  {
   "cell_type": "code",
   "execution_count": 43,
   "metadata": {},
   "outputs": [
    {
     "name": "stdout",
     "output_type": "stream",
     "text": [
      "Enter your name: Reuven\n",
      "R\n",
      "Re\n",
      "Reu\n",
      "Reuv\n",
      "Reuve\n",
      "Reuven\n"
     ]
    }
   ],
   "source": [
    "name = input('Enter your name: ').strip()\n",
    "\n",
    "for maxindex in range(len(name)):  # range will be 0 up to (not including) length of name\n",
    "    print(name[:maxindex+1])  # print name, but only up to maxindex+1"
   ]
  },
  {
   "cell_type": "markdown",
   "metadata": {},
   "source": [
    "# Stopping loops early\n",
    "\n",
    "A `for` loop iterates over every element of a string (or another collection).  It starts at the beginning, and unless we stop it (and we'll see how to do that in a bit), it continues through the end.\n",
    "\n",
    "We can exit from a loop whenever we want with `break`.  Once Python sees `break`, it immediately exits from the loop.\n"
   ]
  },
  {
   "cell_type": "code",
   "execution_count": 45,
   "metadata": {},
   "outputs": [
    {
     "name": "stdout",
     "output_type": "stream",
     "text": [
      "Found a, not what we are looking for\n",
      "Found b, not what we are looking for\n",
      "Found c, not what we are looking for\n",
      "Found d!\n",
      "Found e, not what we are looking for\n"
     ]
    }
   ],
   "source": [
    "s = 'abcde'\n",
    "look_for = 'd'  # pretend that \"in\" doesn't exist\n",
    "\n",
    "for one_character in s:\n",
    "    if look_for == one_character:\n",
    "        print(f\"Found {look_for}!\")\n",
    "    else:\n",
    "        print(f'Found {one_character}, not what we are looking for')"
   ]
  },
  {
   "cell_type": "code",
   "execution_count": 47,
   "metadata": {},
   "outputs": [
    {
     "name": "stdout",
     "output_type": "stream",
     "text": [
      "Found a, not what we are looking for\n",
      "Found b, not what we are looking for\n",
      "Found c, not what we are looking for\n",
      "Found d!\n",
      "Done!\n"
     ]
    }
   ],
   "source": [
    "s = 'abcde'\n",
    "look_for = 'd'  # pretend that \"in\" doesn't exist\n",
    "\n",
    "for one_character in s:\n",
    "    if look_for == one_character:\n",
    "        print(f\"Found {look_for}!\")\n",
    "        break   # exits the loop right away\n",
    "    else:\n",
    "        print(f'Found {one_character}, not what we are looking for')\n",
    "        \n",
    "print(\"Done!\")        "
   ]
  },
  {
   "cell_type": "markdown",
   "metadata": {},
   "source": [
    "# Example: \n",
    "\n",
    "I want to ask the user to enter up to 5 numbers. If the total of the entered numbers reaches 100 before we get 5, we exit the loop early."
   ]
  },
  {
   "cell_type": "code",
   "execution_count": 48,
   "metadata": {},
   "outputs": [
    {
     "name": "stdout",
     "output_type": "stream",
     "text": [
      "Enter a number: 10\n",
      "Added 10, total is now 10\n",
      "Enter a number: 50\n",
      "Added 50, total is now 60\n",
      "Enter a number: 1\n",
      "Added 1, total is now 61\n",
      "Enter a number: 80\n",
      "Added 80, total is now 141\n",
      "Finally, total is 141\n"
     ]
    }
   ],
   "source": [
    "total = 0\n",
    "\n",
    "for i in range(5):\n",
    "    s = input(f'Enter a number: ').strip()\n",
    "    \n",
    "    n = int(s)  # get an int based on s\n",
    "    total += n\n",
    "    print(f'Added {n}, total is now {total}')\n",
    "    if total >= 100:\n",
    "        break\n",
    "        \n",
    "print(f'Finally, total is {total}')        "
   ]
  },
  {
   "cell_type": "code",
   "execution_count": 49,
   "metadata": {},
   "outputs": [
    {
     "data": {
      "text/plain": [
       "'b'"
      ]
     },
     "execution_count": 49,
     "metadata": {},
     "output_type": "execute_result"
    }
   ],
   "source": [
    "s = 'abcde'\n",
    "\n",
    "s[1]  # this retrieves one character, the item at index 1"
   ]
  },
  {
   "cell_type": "code",
   "execution_count": 50,
   "metadata": {},
   "outputs": [
    {
     "data": {
      "text/plain": [
       "'a'"
      ]
     },
     "execution_count": 50,
     "metadata": {},
     "output_type": "execute_result"
    }
   ],
   "source": [
    "s[:1]  # this retrieves the slice of one character, the items at indexes up to 1"
   ]
  },
  {
   "cell_type": "code",
   "execution_count": 51,
   "metadata": {},
   "outputs": [
    {
     "data": {
      "text/plain": [
       "'ab'"
      ]
     },
     "execution_count": 51,
     "metadata": {},
     "output_type": "execute_result"
    }
   ],
   "source": [
    "s[:2]"
   ]
  },
  {
   "cell_type": "markdown",
   "metadata": {},
   "source": [
    "# `while` loops\n",
    "\n",
    "A `for` loop goes through a string, from start to finish, unless it is stoped prematurely by `break`.  \n",
    "\n",
    "A `while` loop, by contrast, is like `if`. It has a condition, and it runs so long as the condition is `True`. At the start of each iteration, the loop checks if the condition is `True` -- and if it is, then the body runs.  If not, the loop ends."
   ]
  },
  {
   "cell_type": "code",
   "execution_count": 52,
   "metadata": {},
   "outputs": [
    {
     "name": "stdout",
     "output_type": "stream",
     "text": [
      "5\n",
      "4\n",
      "3\n",
      "2\n",
      "1\n"
     ]
    }
   ],
   "source": [
    "x = 5\n",
    "\n",
    "while x > 0:   # condition -- just like an if!\n",
    "    print(x)\n",
    "    x -= 1   # subtract 1 from x"
   ]
  },
  {
   "cell_type": "markdown",
   "metadata": {},
   "source": [
    "# Exercise: Sum numbers \n",
    "\n",
    "1. Set `total` to 0.\n",
    "2. Repeatedly (i.e., in a `while` loop):\n",
    "    - Ask the user to enter a number.\n",
    "    - (Remember, all input comes as as string!)\n",
    "    - If the user gave us an empty/blank string, written as `''`, then stop asking the user for input and exit from the loop.\n",
    "    - Otherwise, turn the user's input into a number and add to `total`.\n",
    "3. When we exit from the loop, print the total\n",
    "\n",
    "Example:\n",
    "\n",
    "    Enter a number: 10\n",
    "    Enter a number: 20\n",
    "    Enter a number: 30\n",
    "    Enter a number: [ENTER]\n",
    "    Total is 60"
   ]
  },
  {
   "cell_type": "code",
   "execution_count": 53,
   "metadata": {},
   "outputs": [
    {
     "name": "stdout",
     "output_type": "stream",
     "text": [
      "Enter a number: 10\n",
      "Enter a number: 15\n",
      "Enter a number: 83\n",
      "Enter a number: \n",
      "Total = 108\n"
     ]
    }
   ],
   "source": [
    "total = 0\n",
    "\n",
    "while True:   # infinite loop\n",
    "    s = input('Enter a number: ').strip()\n",
    "    \n",
    "    if s == '':  # empty input? get out of here!\n",
    "        break\n",
    "        \n",
    "    total += int(s)  # get an int from s, and add to the total\n",
    "    \n",
    "print(f'Total = {total}')       "
   ]
  },
  {
   "cell_type": "code",
   "execution_count": 55,
   "metadata": {},
   "outputs": [
    {
     "name": "stdout",
     "output_type": "stream",
     "text": [
      "Enter a number: 30\n",
      "\tTotal is 0\n",
      "\tAdding 30 to total\n",
      "Enter a number: 15\n",
      "\tTotal is 30\n",
      "\tAdding 15 to total\n",
      "Enter a number: 20\n",
      "\tTotal is 45\n",
      "\tAdding 20 to total\n",
      "Enter a number: 100\n",
      "\tTotal is 65\n",
      "\tAdding 100 to total\n",
      "Total = 165\n"
     ]
    }
   ],
   "source": [
    "# what if the specifications had said: Keep asking the user for inputs\n",
    "# until we go over 100.  At that point, exit from the loop.\n",
    "\n",
    "total = 0\n",
    "\n",
    "while total < 100:\n",
    "    s = input('Enter a number: ').strip()\n",
    "    print(f'\\tTotal is {total}')  # \\t == tab, special character\n",
    "    \n",
    "    if s.isdigit():    \n",
    "        print(f'\\tAdding {s} to total')  # \\t == tab, up to 8 spaces\n",
    "        total += int(s)\n",
    "    else:\n",
    "        print(f'{s} is not numeric; ignoring')\n",
    "        \n",
    "print(f'Total = {total}')        "
   ]
  },
  {
   "cell_type": "code",
   "execution_count": 56,
   "metadata": {},
   "outputs": [
    {
     "ename": "SyntaxError",
     "evalue": "'break' outside loop (<ipython-input-56-6aaf1f276005>, line 1)",
     "output_type": "error",
     "traceback": [
      "\u001b[0;36m  File \u001b[0;32m\"<ipython-input-56-6aaf1f276005>\"\u001b[0;36m, line \u001b[0;32m1\u001b[0m\n\u001b[0;31m    break\u001b[0m\n\u001b[0m    ^\u001b[0m\n\u001b[0;31mSyntaxError\u001b[0m\u001b[0;31m:\u001b[0m 'break' outside loop\n"
     ]
    }
   ],
   "source": [
    "break"
   ]
  },
  {
   "cell_type": "markdown",
   "metadata": {},
   "source": [
    " # `for` vs. `while`\n",
    " \n",
    "-  Use a `for` loop when you want to go through every element of a collection -- every character in a string, every element of a list, every line of a file, every user in your database, etc.\n",
    "- Use a `while` loop when you don't know how many times you'll need to iterate, or exactly when you'll stop. But you know the condition that will mark the end."
   ]
  },
  {
   "cell_type": "code",
   "execution_count": 57,
   "metadata": {},
   "outputs": [
    {
     "name": "stdout",
     "output_type": "stream",
     "text": [
      "Begin\n",
      "0\n",
      "1\n",
      "2\n",
      "3\n",
      "4\n",
      "End\n"
     ]
    }
   ],
   "source": [
    "print('Begin')\n",
    "for i in range(5):\n",
    "    print(i)\n",
    "print('End')"
   ]
  },
  {
   "cell_type": "code",
   "execution_count": null,
   "metadata": {},
   "outputs": [],
   "source": []
  },
  {
   "cell_type": "markdown",
   "metadata": {},
   "source": [
    "# Next up\n",
    " \n",
    "1. Lists!\n",
    "     - Creating them\n",
    "     - Retrieving from lists\n",
    "     - Iterating over lists\n",
    "2. Lists vs. strings"
   ]
  },
  {
   "cell_type": "code",
   "execution_count": null,
   "metadata": {},
   "outputs": [],
   "source": []
  }
 ],
 "metadata": {
  "kernelspec": {
   "display_name": "Python 3",
   "language": "python",
   "name": "python3"
  },
  "language_info": {
   "codemirror_mode": {
    "name": "ipython",
    "version": 3
   },
   "file_extension": ".py",
   "mimetype": "text/x-python",
   "name": "python",
   "nbconvert_exporter": "python",
   "pygments_lexer": "ipython3",
   "version": "3.9.6"
  }
 },
 "nbformat": 4,
 "nbformat_minor": 4
}

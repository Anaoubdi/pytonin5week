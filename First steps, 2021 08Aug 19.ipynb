{
 "cells": [
  {
   "cell_type": "markdown",
   "metadata": {},
   "source": [
    "# Agenda: Week 2 (Loops, lists, and tuples)\n",
    "\n",
    "1. Loops\n",
    "    - `for` loops\n",
    "    - looping a number of times\n",
    "    - `while` loops\n",
    "    - indexes -- do we need them?  Where are they?\n",
    "2. Lists\n",
    "    - What are they?\n",
    "    - How are they the same as (and different from) strings?\n",
    "    - Mutability vs. immutability\n",
    "3. Strings to lists and back\n",
    "    - Splitting\n",
    "    - Joining\n",
    "4. Tuples\n",
    "    - What are they?\n",
    "    - Why do we care? (Do we care?)\n",
    "    - How are they the same as (and different from) lists and strings?\n",
    "\n"
   ]
  },
  {
   "cell_type": "code",
   "execution_count": 1,
   "metadata": {},
   "outputs": [],
   "source": [
    "s = 'abcde'\n"
   ]
  },
  {
   "cell_type": "code",
   "execution_count": 2,
   "metadata": {},
   "outputs": [],
   "source": [
    "%config Completer.use_jedi = False"
   ]
  },
  {
   "cell_type": "markdown",
   "metadata": {},
   "source": [
    "# What are f-strings?\n",
    "\n",
    "1. They are strings!  They just make it easier to create strings.\n",
    "2. They look just like regular strings, except:\n",
    "    - there is an `f` before the opening quote\n",
    "    - in the string, anything in `{` and `}` is taken to be Python code, and its value is put in the string"
   ]
  },
  {
   "cell_type": "code",
   "execution_count": 3,
   "metadata": {},
   "outputs": [],
   "source": [
    "x = 10\n",
    "y = 20\n",
    "\n",
    "s = f'{x} + {y} = {x+y}'"
   ]
  },
  {
   "cell_type": "code",
   "execution_count": 4,
   "metadata": {},
   "outputs": [
    {
     "name": "stdout",
     "output_type": "stream",
     "text": [
      "10 + 20 = 30\n"
     ]
    }
   ],
   "source": [
    "print(s)"
   ]
  },
  {
   "cell_type": "code",
   "execution_count": 5,
   "metadata": {},
   "outputs": [
    {
     "data": {
      "text/plain": [
       "'20 = 30'"
      ]
     },
     "execution_count": 5,
     "metadata": {},
     "output_type": "execute_result"
    }
   ],
   "source": [
    "s[5:]  # slice on this string"
   ]
  },
  {
   "cell_type": "markdown",
   "metadata": {},
   "source": [
    "# Functions vs. methods\n",
    "\n",
    "These are both types of verbs that we can execute on our data.  The difference is mostly one of syntax:\n",
    "\n",
    "- Functions look like this: `FUNC(DATA)`\n",
    "- Methods look like this: `DATA.METHOD()`\n",
    "\n",
    "Most verbs in Python are actually methods.  For example:\n",
    "\n",
    "```python\n",
    "s = 'abcd efgh'\n",
    "s.capitalize()   # method; returns 'Abcd efgh'\n",
    "s.title()        # method; returns 'Abcd Efgh'\n",
    "\n",
    "len(s)           # function; that returns 9\n",
    "```"
   ]
  },
  {
   "cell_type": "code",
   "execution_count": 6,
   "metadata": {},
   "outputs": [
    {
     "data": {
      "text/plain": [
       "'a    b    c'"
      ]
     },
     "execution_count": 6,
     "metadata": {},
     "output_type": "execute_result"
    }
   ],
   "source": [
    "# one really useful method is `str.strip` \n",
    "\n",
    "s = '   a    b    c   '\n",
    "\n",
    "s.strip()  # returns a new string with no spaces at the start or end"
   ]
  },
  {
   "cell_type": "code",
   "execution_count": null,
   "metadata": {},
   "outputs": [],
   "source": [
    "# How do I fin"
   ]
  }
 ],
 "metadata": {
  "kernelspec": {
   "display_name": "Python 3",
   "language": "python",
   "name": "python3"
  },
  "language_info": {
   "codemirror_mode": {
    "name": "ipython",
    "version": 3
   },
   "file_extension": ".py",
   "mimetype": "text/x-python",
   "name": "python",
   "nbconvert_exporter": "python",
   "pygments_lexer": "ipython3",
   "version": "3.9.6"
  }
 },
 "nbformat": 4,
 "nbformat_minor": 4
}
